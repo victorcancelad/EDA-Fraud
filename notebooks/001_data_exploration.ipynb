{
 "cells": [
  {
   "cell_type": "markdown",
   "id": "51c5b139fe68cb6b",
   "metadata": {
    "collapsed": false
   },
   "source": [
    "### Importo librerias"
   ]
  },
  {
   "cell_type": "code",
   "execution_count": 1,
   "id": "69455645a5343b20",
   "metadata": {
    "ExecuteTime": {
     "end_time": "2023-11-03T19:42:24.466690300Z",
     "start_time": "2023-11-03T19:42:24.330064100Z"
    },
    "collapsed": false
   },
   "outputs": [],
   "source": [
    "import pandas as pd\n",
    "import numpy as np\n",
    "import seaborn as sns\n",
    "from matplotlib import pyplot as plt\n",
    "import plotly.express as px\n",
    "\n",
    "pd.set_option('display.max_columns', 500)\n",
    "pd.set_option('display.max_rows', 5000)"
   ]
  },
  {
   "cell_type": "markdown",
   "id": "95a4c6694e7a8562",
   "metadata": {
    "collapsed": false
   },
   "source": [
    "### Funciones"
   ]
  },
  {
   "cell_type": "code",
   "execution_count": 2,
   "id": "440bdfa90473aa94",
   "metadata": {
    "ExecuteTime": {
     "end_time": "2023-11-03T19:42:26.456924100Z",
     "start_time": "2023-11-03T19:42:26.439974400Z"
    },
    "collapsed": false
   },
   "outputs": [],
   "source": [
    "def dame_variables_categoricas(dataset=None):\n",
    "    '''\n",
    "    ----------------------------------------------------------------------------------------------------------\n",
    "    Función dame_variables_categoricas:\n",
    "    ----------------------------------------------------------------------------------------------------------\n",
    "        -Descripción: Función que recibe un dataset y devuelve una lista con los nombres de las \n",
    "        variables categóricas a pesar de ello no servirá en otros ejercicios ya que hay muchas númericas que son\n",
    "        1 o 0 y no servirá la función para otros trabajos\n",
    "        -Inputs:  \n",
    "            -- dataset: Pandas dataframe que contiene los datos\n",
    "        -Return:\n",
    "            -- lista_variables_categoricas: lista con los nombres de las variables categóricas del\n",
    "            dataset de entrada con menos de 100 valores diferentes\n",
    "            -- 1: la ejecución es incorrecta\n",
    "        \n",
    "    '''\n",
    "    if dataset is None:\n",
    "        print(u'\\nFaltan argumentos por pasar a la función')\n",
    "        return 1\n",
    "    lista_variables_categoricas = []\n",
    "    other = []\n",
    "    for i in dataset.columns:\n",
    "        if (dataset[i].dtype!=float) & (dataset[i].dtype!=int):\n",
    "            unicos = int(len(np.unique(dataset[i].dropna(axis=0, how='all'))))\n",
    "            if i in [\"fraud_bool\", \"payment_type\", \"employment_status\", \"housing_status\", \"source\", \"device_os\"]: #selecciono de manera manual las categoricas\n",
    "                #ya que hay muchas numericas que son 1 o 0 por tanto no serviria esta funcion para otro trabajo\n",
    "                lista_variables_categoricas.append(i)\n",
    "            else:\n",
    "                other.append(i)\n",
    "\n",
    "    return lista_variables_categoricas, other"
   ]
  },
  {
   "cell_type": "markdown",
   "id": "95fbeaf0e47fa32",
   "metadata": {
    "collapsed": false
   },
   "source": [
    "### Leo el dataset"
   ]
  },
  {
   "cell_type": "code",
   "execution_count": 3,
   "id": "85f136a5445bb8e8",
   "metadata": {
    "ExecuteTime": {
     "end_time": "2023-11-03T19:42:39.343475200Z",
     "start_time": "2023-11-03T19:42:34.155364900Z"
    },
    "collapsed": false
   },
   "outputs": [
    {
     "data": {
      "text/html": [
       "<div>\n",
       "<style scoped>\n",
       "    .dataframe tbody tr th:only-of-type {\n",
       "        vertical-align: middle;\n",
       "    }\n",
       "\n",
       "    .dataframe tbody tr th {\n",
       "        vertical-align: top;\n",
       "    }\n",
       "\n",
       "    .dataframe thead th {\n",
       "        text-align: right;\n",
       "    }\n",
       "</style>\n",
       "<table border=\"1\" class=\"dataframe\">\n",
       "  <thead>\n",
       "    <tr style=\"text-align: right;\">\n",
       "      <th></th>\n",
       "      <th>fraud_bool</th>\n",
       "      <th>income</th>\n",
       "      <th>name_email_similarity</th>\n",
       "      <th>prev_address_months_count</th>\n",
       "      <th>current_address_months_count</th>\n",
       "      <th>customer_age</th>\n",
       "      <th>days_since_request</th>\n",
       "      <th>intended_balcon_amount</th>\n",
       "      <th>payment_type</th>\n",
       "      <th>zip_count_4w</th>\n",
       "      <th>velocity_6h</th>\n",
       "      <th>velocity_24h</th>\n",
       "      <th>velocity_4w</th>\n",
       "      <th>bank_branch_count_8w</th>\n",
       "      <th>date_of_birth_distinct_emails_4w</th>\n",
       "      <th>employment_status</th>\n",
       "      <th>credit_risk_score</th>\n",
       "      <th>email_is_free</th>\n",
       "      <th>housing_status</th>\n",
       "      <th>phone_home_valid</th>\n",
       "      <th>phone_mobile_valid</th>\n",
       "      <th>bank_months_count</th>\n",
       "      <th>has_other_cards</th>\n",
       "      <th>proposed_credit_limit</th>\n",
       "      <th>foreign_request</th>\n",
       "      <th>source</th>\n",
       "      <th>session_length_in_minutes</th>\n",
       "      <th>device_os</th>\n",
       "      <th>keep_alive_session</th>\n",
       "      <th>device_distinct_emails_8w</th>\n",
       "      <th>device_fraud_count</th>\n",
       "      <th>month</th>\n",
       "    </tr>\n",
       "  </thead>\n",
       "  <tbody>\n",
       "    <tr>\n",
       "      <th>0</th>\n",
       "      <td>1</td>\n",
       "      <td>0.9</td>\n",
       "      <td>0.166828</td>\n",
       "      <td>-1</td>\n",
       "      <td>88</td>\n",
       "      <td>50</td>\n",
       "      <td>0.020925</td>\n",
       "      <td>-1.331345</td>\n",
       "      <td>AA</td>\n",
       "      <td>769</td>\n",
       "      <td>10650.765523</td>\n",
       "      <td>3134.319630</td>\n",
       "      <td>3863.647740</td>\n",
       "      <td>1</td>\n",
       "      <td>6</td>\n",
       "      <td>CA</td>\n",
       "      <td>185</td>\n",
       "      <td>0</td>\n",
       "      <td>BA</td>\n",
       "      <td>1</td>\n",
       "      <td>0</td>\n",
       "      <td>24</td>\n",
       "      <td>0</td>\n",
       "      <td>500.0</td>\n",
       "      <td>0</td>\n",
       "      <td>INTERNET</td>\n",
       "      <td>3.888115</td>\n",
       "      <td>windows</td>\n",
       "      <td>0</td>\n",
       "      <td>1</td>\n",
       "      <td>0</td>\n",
       "      <td>7</td>\n",
       "    </tr>\n",
       "    <tr>\n",
       "      <th>1</th>\n",
       "      <td>1</td>\n",
       "      <td>0.9</td>\n",
       "      <td>0.296286</td>\n",
       "      <td>-1</td>\n",
       "      <td>144</td>\n",
       "      <td>50</td>\n",
       "      <td>0.005418</td>\n",
       "      <td>-0.816224</td>\n",
       "      <td>AB</td>\n",
       "      <td>366</td>\n",
       "      <td>534.047319</td>\n",
       "      <td>2670.918292</td>\n",
       "      <td>3124.298166</td>\n",
       "      <td>718</td>\n",
       "      <td>3</td>\n",
       "      <td>CA</td>\n",
       "      <td>259</td>\n",
       "      <td>1</td>\n",
       "      <td>BA</td>\n",
       "      <td>0</td>\n",
       "      <td>0</td>\n",
       "      <td>15</td>\n",
       "      <td>0</td>\n",
       "      <td>1500.0</td>\n",
       "      <td>0</td>\n",
       "      <td>INTERNET</td>\n",
       "      <td>31.798819</td>\n",
       "      <td>windows</td>\n",
       "      <td>0</td>\n",
       "      <td>1</td>\n",
       "      <td>0</td>\n",
       "      <td>7</td>\n",
       "    </tr>\n",
       "    <tr>\n",
       "      <th>2</th>\n",
       "      <td>1</td>\n",
       "      <td>0.9</td>\n",
       "      <td>0.044985</td>\n",
       "      <td>-1</td>\n",
       "      <td>132</td>\n",
       "      <td>40</td>\n",
       "      <td>3.108549</td>\n",
       "      <td>-0.755728</td>\n",
       "      <td>AC</td>\n",
       "      <td>870</td>\n",
       "      <td>4048.534263</td>\n",
       "      <td>2893.621498</td>\n",
       "      <td>3159.590679</td>\n",
       "      <td>1</td>\n",
       "      <td>14</td>\n",
       "      <td>CB</td>\n",
       "      <td>177</td>\n",
       "      <td>1</td>\n",
       "      <td>BA</td>\n",
       "      <td>0</td>\n",
       "      <td>1</td>\n",
       "      <td>-1</td>\n",
       "      <td>0</td>\n",
       "      <td>200.0</td>\n",
       "      <td>0</td>\n",
       "      <td>INTERNET</td>\n",
       "      <td>4.728705</td>\n",
       "      <td>other</td>\n",
       "      <td>0</td>\n",
       "      <td>1</td>\n",
       "      <td>0</td>\n",
       "      <td>7</td>\n",
       "    </tr>\n",
       "    <tr>\n",
       "      <th>3</th>\n",
       "      <td>1</td>\n",
       "      <td>0.9</td>\n",
       "      <td>0.159511</td>\n",
       "      <td>-1</td>\n",
       "      <td>22</td>\n",
       "      <td>50</td>\n",
       "      <td>0.019079</td>\n",
       "      <td>-1.205124</td>\n",
       "      <td>AB</td>\n",
       "      <td>810</td>\n",
       "      <td>3457.064063</td>\n",
       "      <td>4054.908412</td>\n",
       "      <td>3022.261812</td>\n",
       "      <td>1921</td>\n",
       "      <td>6</td>\n",
       "      <td>CA</td>\n",
       "      <td>110</td>\n",
       "      <td>1</td>\n",
       "      <td>BA</td>\n",
       "      <td>0</td>\n",
       "      <td>1</td>\n",
       "      <td>31</td>\n",
       "      <td>1</td>\n",
       "      <td>200.0</td>\n",
       "      <td>0</td>\n",
       "      <td>INTERNET</td>\n",
       "      <td>2.047904</td>\n",
       "      <td>linux</td>\n",
       "      <td>0</td>\n",
       "      <td>1</td>\n",
       "      <td>0</td>\n",
       "      <td>7</td>\n",
       "    </tr>\n",
       "    <tr>\n",
       "      <th>4</th>\n",
       "      <td>1</td>\n",
       "      <td>0.9</td>\n",
       "      <td>0.596414</td>\n",
       "      <td>-1</td>\n",
       "      <td>218</td>\n",
       "      <td>50</td>\n",
       "      <td>0.004441</td>\n",
       "      <td>-0.773276</td>\n",
       "      <td>AB</td>\n",
       "      <td>890</td>\n",
       "      <td>5020.341679</td>\n",
       "      <td>2728.237159</td>\n",
       "      <td>3087.670952</td>\n",
       "      <td>1990</td>\n",
       "      <td>2</td>\n",
       "      <td>CA</td>\n",
       "      <td>295</td>\n",
       "      <td>1</td>\n",
       "      <td>BA</td>\n",
       "      <td>1</td>\n",
       "      <td>0</td>\n",
       "      <td>31</td>\n",
       "      <td>0</td>\n",
       "      <td>1500.0</td>\n",
       "      <td>0</td>\n",
       "      <td>INTERNET</td>\n",
       "      <td>3.775225</td>\n",
       "      <td>macintosh</td>\n",
       "      <td>1</td>\n",
       "      <td>1</td>\n",
       "      <td>0</td>\n",
       "      <td>7</td>\n",
       "    </tr>\n",
       "    <tr>\n",
       "      <th>...</th>\n",
       "      <td>...</td>\n",
       "      <td>...</td>\n",
       "      <td>...</td>\n",
       "      <td>...</td>\n",
       "      <td>...</td>\n",
       "      <td>...</td>\n",
       "      <td>...</td>\n",
       "      <td>...</td>\n",
       "      <td>...</td>\n",
       "      <td>...</td>\n",
       "      <td>...</td>\n",
       "      <td>...</td>\n",
       "      <td>...</td>\n",
       "      <td>...</td>\n",
       "      <td>...</td>\n",
       "      <td>...</td>\n",
       "      <td>...</td>\n",
       "      <td>...</td>\n",
       "      <td>...</td>\n",
       "      <td>...</td>\n",
       "      <td>...</td>\n",
       "      <td>...</td>\n",
       "      <td>...</td>\n",
       "      <td>...</td>\n",
       "      <td>...</td>\n",
       "      <td>...</td>\n",
       "      <td>...</td>\n",
       "      <td>...</td>\n",
       "      <td>...</td>\n",
       "      <td>...</td>\n",
       "      <td>...</td>\n",
       "      <td>...</td>\n",
       "    </tr>\n",
       "    <tr>\n",
       "      <th>999995</th>\n",
       "      <td>0</td>\n",
       "      <td>0.6</td>\n",
       "      <td>0.192631</td>\n",
       "      <td>-1</td>\n",
       "      <td>104</td>\n",
       "      <td>40</td>\n",
       "      <td>0.030592</td>\n",
       "      <td>-1.044454</td>\n",
       "      <td>AB</td>\n",
       "      <td>804</td>\n",
       "      <td>7905.711839</td>\n",
       "      <td>8341.468557</td>\n",
       "      <td>4972.635997</td>\n",
       "      <td>1</td>\n",
       "      <td>8</td>\n",
       "      <td>CA</td>\n",
       "      <td>75</td>\n",
       "      <td>1</td>\n",
       "      <td>BC</td>\n",
       "      <td>1</td>\n",
       "      <td>1</td>\n",
       "      <td>25</td>\n",
       "      <td>0</td>\n",
       "      <td>200.0</td>\n",
       "      <td>0</td>\n",
       "      <td>INTERNET</td>\n",
       "      <td>8.511502</td>\n",
       "      <td>linux</td>\n",
       "      <td>1</td>\n",
       "      <td>1</td>\n",
       "      <td>0</td>\n",
       "      <td>4</td>\n",
       "    </tr>\n",
       "    <tr>\n",
       "      <th>999996</th>\n",
       "      <td>0</td>\n",
       "      <td>0.8</td>\n",
       "      <td>0.322989</td>\n",
       "      <td>148</td>\n",
       "      <td>9</td>\n",
       "      <td>50</td>\n",
       "      <td>1.628119</td>\n",
       "      <td>-1.409803</td>\n",
       "      <td>AC</td>\n",
       "      <td>3306</td>\n",
       "      <td>5391.470463</td>\n",
       "      <td>4955.170808</td>\n",
       "      <td>5022.728108</td>\n",
       "      <td>0</td>\n",
       "      <td>2</td>\n",
       "      <td>CC</td>\n",
       "      <td>154</td>\n",
       "      <td>1</td>\n",
       "      <td>BC</td>\n",
       "      <td>1</td>\n",
       "      <td>1</td>\n",
       "      <td>-1</td>\n",
       "      <td>0</td>\n",
       "      <td>200.0</td>\n",
       "      <td>0</td>\n",
       "      <td>INTERNET</td>\n",
       "      <td>8.967865</td>\n",
       "      <td>windows</td>\n",
       "      <td>0</td>\n",
       "      <td>1</td>\n",
       "      <td>0</td>\n",
       "      <td>4</td>\n",
       "    </tr>\n",
       "    <tr>\n",
       "      <th>999997</th>\n",
       "      <td>0</td>\n",
       "      <td>0.8</td>\n",
       "      <td>0.879403</td>\n",
       "      <td>-1</td>\n",
       "      <td>30</td>\n",
       "      <td>20</td>\n",
       "      <td>0.018563</td>\n",
       "      <td>34.692760</td>\n",
       "      <td>AA</td>\n",
       "      <td>1522</td>\n",
       "      <td>8063.102636</td>\n",
       "      <td>5670.654316</td>\n",
       "      <td>4377.196321</td>\n",
       "      <td>2023</td>\n",
       "      <td>6</td>\n",
       "      <td>CF</td>\n",
       "      <td>64</td>\n",
       "      <td>0</td>\n",
       "      <td>BC</td>\n",
       "      <td>0</td>\n",
       "      <td>1</td>\n",
       "      <td>11</td>\n",
       "      <td>0</td>\n",
       "      <td>200.0</td>\n",
       "      <td>0</td>\n",
       "      <td>INTERNET</td>\n",
       "      <td>8.195531</td>\n",
       "      <td>other</td>\n",
       "      <td>0</td>\n",
       "      <td>1</td>\n",
       "      <td>0</td>\n",
       "      <td>4</td>\n",
       "    </tr>\n",
       "    <tr>\n",
       "      <th>999998</th>\n",
       "      <td>0</td>\n",
       "      <td>0.9</td>\n",
       "      <td>0.762112</td>\n",
       "      <td>-1</td>\n",
       "      <td>189</td>\n",
       "      <td>20</td>\n",
       "      <td>0.015352</td>\n",
       "      <td>94.661055</td>\n",
       "      <td>AA</td>\n",
       "      <td>1418</td>\n",
       "      <td>8092.641762</td>\n",
       "      <td>3982.582204</td>\n",
       "      <td>4394.803296</td>\n",
       "      <td>1678</td>\n",
       "      <td>6</td>\n",
       "      <td>CA</td>\n",
       "      <td>163</td>\n",
       "      <td>0</td>\n",
       "      <td>BA</td>\n",
       "      <td>1</td>\n",
       "      <td>0</td>\n",
       "      <td>28</td>\n",
       "      <td>0</td>\n",
       "      <td>500.0</td>\n",
       "      <td>0</td>\n",
       "      <td>INTERNET</td>\n",
       "      <td>4.336064</td>\n",
       "      <td>windows</td>\n",
       "      <td>1</td>\n",
       "      <td>1</td>\n",
       "      <td>0</td>\n",
       "      <td>4</td>\n",
       "    </tr>\n",
       "    <tr>\n",
       "      <th>999999</th>\n",
       "      <td>0</td>\n",
       "      <td>0.2</td>\n",
       "      <td>0.697452</td>\n",
       "      <td>-1</td>\n",
       "      <td>321</td>\n",
       "      <td>20</td>\n",
       "      <td>2.655916</td>\n",
       "      <td>9.908499</td>\n",
       "      <td>AA</td>\n",
       "      <td>951</td>\n",
       "      <td>6169.630036</td>\n",
       "      <td>3695.308261</td>\n",
       "      <td>4352.334543</td>\n",
       "      <td>2</td>\n",
       "      <td>12</td>\n",
       "      <td>CA</td>\n",
       "      <td>36</td>\n",
       "      <td>1</td>\n",
       "      <td>BE</td>\n",
       "      <td>0</td>\n",
       "      <td>1</td>\n",
       "      <td>15</td>\n",
       "      <td>0</td>\n",
       "      <td>200.0</td>\n",
       "      <td>0</td>\n",
       "      <td>INTERNET</td>\n",
       "      <td>6.717022</td>\n",
       "      <td>linux</td>\n",
       "      <td>0</td>\n",
       "      <td>1</td>\n",
       "      <td>0</td>\n",
       "      <td>4</td>\n",
       "    </tr>\n",
       "  </tbody>\n",
       "</table>\n",
       "<p>1000000 rows × 32 columns</p>\n",
       "</div>"
      ],
      "text/plain": [
       "        fraud_bool  income  name_email_similarity  prev_address_months_count  \\\n",
       "0                1     0.9               0.166828                         -1   \n",
       "1                1     0.9               0.296286                         -1   \n",
       "2                1     0.9               0.044985                         -1   \n",
       "3                1     0.9               0.159511                         -1   \n",
       "4                1     0.9               0.596414                         -1   \n",
       "...            ...     ...                    ...                        ...   \n",
       "999995           0     0.6               0.192631                         -1   \n",
       "999996           0     0.8               0.322989                        148   \n",
       "999997           0     0.8               0.879403                         -1   \n",
       "999998           0     0.9               0.762112                         -1   \n",
       "999999           0     0.2               0.697452                         -1   \n",
       "\n",
       "        current_address_months_count  customer_age  days_since_request  \\\n",
       "0                                 88            50            0.020925   \n",
       "1                                144            50            0.005418   \n",
       "2                                132            40            3.108549   \n",
       "3                                 22            50            0.019079   \n",
       "4                                218            50            0.004441   \n",
       "...                              ...           ...                 ...   \n",
       "999995                           104            40            0.030592   \n",
       "999996                             9            50            1.628119   \n",
       "999997                            30            20            0.018563   \n",
       "999998                           189            20            0.015352   \n",
       "999999                           321            20            2.655916   \n",
       "\n",
       "        intended_balcon_amount payment_type  zip_count_4w   velocity_6h  \\\n",
       "0                    -1.331345           AA           769  10650.765523   \n",
       "1                    -0.816224           AB           366    534.047319   \n",
       "2                    -0.755728           AC           870   4048.534263   \n",
       "3                    -1.205124           AB           810   3457.064063   \n",
       "4                    -0.773276           AB           890   5020.341679   \n",
       "...                        ...          ...           ...           ...   \n",
       "999995               -1.044454           AB           804   7905.711839   \n",
       "999996               -1.409803           AC          3306   5391.470463   \n",
       "999997               34.692760           AA          1522   8063.102636   \n",
       "999998               94.661055           AA          1418   8092.641762   \n",
       "999999                9.908499           AA           951   6169.630036   \n",
       "\n",
       "        velocity_24h  velocity_4w  bank_branch_count_8w  \\\n",
       "0        3134.319630  3863.647740                     1   \n",
       "1        2670.918292  3124.298166                   718   \n",
       "2        2893.621498  3159.590679                     1   \n",
       "3        4054.908412  3022.261812                  1921   \n",
       "4        2728.237159  3087.670952                  1990   \n",
       "...              ...          ...                   ...   \n",
       "999995   8341.468557  4972.635997                     1   \n",
       "999996   4955.170808  5022.728108                     0   \n",
       "999997   5670.654316  4377.196321                  2023   \n",
       "999998   3982.582204  4394.803296                  1678   \n",
       "999999   3695.308261  4352.334543                     2   \n",
       "\n",
       "        date_of_birth_distinct_emails_4w employment_status  credit_risk_score  \\\n",
       "0                                      6                CA                185   \n",
       "1                                      3                CA                259   \n",
       "2                                     14                CB                177   \n",
       "3                                      6                CA                110   \n",
       "4                                      2                CA                295   \n",
       "...                                  ...               ...                ...   \n",
       "999995                                 8                CA                 75   \n",
       "999996                                 2                CC                154   \n",
       "999997                                 6                CF                 64   \n",
       "999998                                 6                CA                163   \n",
       "999999                                12                CA                 36   \n",
       "\n",
       "        email_is_free housing_status  phone_home_valid  phone_mobile_valid  \\\n",
       "0                   0             BA                 1                   0   \n",
       "1                   1             BA                 0                   0   \n",
       "2                   1             BA                 0                   1   \n",
       "3                   1             BA                 0                   1   \n",
       "4                   1             BA                 1                   0   \n",
       "...               ...            ...               ...                 ...   \n",
       "999995              1             BC                 1                   1   \n",
       "999996              1             BC                 1                   1   \n",
       "999997              0             BC                 0                   1   \n",
       "999998              0             BA                 1                   0   \n",
       "999999              1             BE                 0                   1   \n",
       "\n",
       "        bank_months_count  has_other_cards  proposed_credit_limit  \\\n",
       "0                      24                0                  500.0   \n",
       "1                      15                0                 1500.0   \n",
       "2                      -1                0                  200.0   \n",
       "3                      31                1                  200.0   \n",
       "4                      31                0                 1500.0   \n",
       "...                   ...              ...                    ...   \n",
       "999995                 25                0                  200.0   \n",
       "999996                 -1                0                  200.0   \n",
       "999997                 11                0                  200.0   \n",
       "999998                 28                0                  500.0   \n",
       "999999                 15                0                  200.0   \n",
       "\n",
       "        foreign_request    source  session_length_in_minutes  device_os  \\\n",
       "0                     0  INTERNET                   3.888115    windows   \n",
       "1                     0  INTERNET                  31.798819    windows   \n",
       "2                     0  INTERNET                   4.728705      other   \n",
       "3                     0  INTERNET                   2.047904      linux   \n",
       "4                     0  INTERNET                   3.775225  macintosh   \n",
       "...                 ...       ...                        ...        ...   \n",
       "999995                0  INTERNET                   8.511502      linux   \n",
       "999996                0  INTERNET                   8.967865    windows   \n",
       "999997                0  INTERNET                   8.195531      other   \n",
       "999998                0  INTERNET                   4.336064    windows   \n",
       "999999                0  INTERNET                   6.717022      linux   \n",
       "\n",
       "        keep_alive_session  device_distinct_emails_8w  device_fraud_count  \\\n",
       "0                        0                          1                   0   \n",
       "1                        0                          1                   0   \n",
       "2                        0                          1                   0   \n",
       "3                        0                          1                   0   \n",
       "4                        1                          1                   0   \n",
       "...                    ...                        ...                 ...   \n",
       "999995                   1                          1                   0   \n",
       "999996                   0                          1                   0   \n",
       "999997                   0                          1                   0   \n",
       "999998                   1                          1                   0   \n",
       "999999                   0                          1                   0   \n",
       "\n",
       "        month  \n",
       "0           7  \n",
       "1           7  \n",
       "2           7  \n",
       "3           7  \n",
       "4           7  \n",
       "...       ...  \n",
       "999995      4  \n",
       "999996      4  \n",
       "999997      4  \n",
       "999998      4  \n",
       "999999      4  \n",
       "\n",
       "[1000000 rows x 32 columns]"
      ]
     },
     "execution_count": 3,
     "metadata": {},
     "output_type": "execute_result"
    }
   ],
   "source": [
    "df_base = pd.read_csv(\"../data/Base.csv\")\n",
    "df_base"
   ]
  },
  {
   "cell_type": "markdown",
   "metadata": {},
   "source": [
    "#### Transformar los -1"
   ]
  },
  {
   "cell_type": "code",
   "execution_count": 4,
   "metadata": {},
   "outputs": [],
   "source": [
    "df_base = df_base.copy()\n",
    "for i in list(df_base.columns):\n",
    "    if i in [\"prev_address_months_count\", \"current_address_months_count\", \"bank_months_count\",\n",
    "            \"session_length_in_minutes\", \"device_distinct_emails\"]:\n",
    "        df_base[i] = np.where(df_base[i] == -1, np.nan, df_base[i])\n",
    "        \n",
    "df_base[\"intended_balcon_amount\"] = np.where(df_base[\"intended_balcon_amount\"] < 0, \n",
    "                                              np.nan, df_base[\"intended_balcon_amount\"])"
   ]
  },
  {
   "cell_type": "markdown",
   "metadata": {},
   "source": [
    "Este código realiza una copia del DataFrame original y luego modifica ciertas columnas específicas, reemplazando los valores -1 con NaN en algunas columnas y los valores negativos con NaN en la columna \"intended_balcon_amount\". De esta manera podemos trabajar de manera mas optima en el EDA, sabiendo con precision los valores nulos."
   ]
  },
  {
   "cell_type": "markdown",
   "id": "299a92fe498e899d",
   "metadata": {
    "collapsed": false
   },
   "source": [
    "### Analisis generales de la tabla\n",
    "Dimensión"
   ]
  },
  {
   "cell_type": "code",
   "execution_count": 5,
   "id": "93267de55e2fd10c",
   "metadata": {
    "ExecuteTime": {
     "end_time": "2023-11-03T19:42:43.517492100Z",
     "start_time": "2023-11-03T19:42:41.099958Z"
    },
    "collapsed": false
   },
   "outputs": [
    {
     "name": "stdout",
     "output_type": "stream",
     "text": [
      "(1000000, 32) (1000000, 32)\n"
     ]
    }
   ],
   "source": [
    "print(df_base.shape, df_base.drop_duplicates().shape)"
   ]
  },
  {
   "cell_type": "markdown",
   "id": "61d07fb8c0bb42cc",
   "metadata": {
    "collapsed": false
   },
   "source": [
    "Tipos de datos"
   ]
  },
  {
   "cell_type": "code",
   "execution_count": 6,
   "id": "4b2d5b6f452df44a",
   "metadata": {
    "ExecuteTime": {
     "end_time": "2023-11-03T19:42:49.468800900Z",
     "start_time": "2023-11-03T19:42:49.425920300Z"
    },
    "collapsed": false
   },
   "outputs": [
    {
     "data": {
      "text/plain": [
       "{'fraud_bool': dtype('int64'),\n",
       " 'income': dtype('float64'),\n",
       " 'name_email_similarity': dtype('float64'),\n",
       " 'prev_address_months_count': dtype('float64'),\n",
       " 'current_address_months_count': dtype('float64'),\n",
       " 'customer_age': dtype('int64'),\n",
       " 'days_since_request': dtype('float64'),\n",
       " 'intended_balcon_amount': dtype('float64'),\n",
       " 'payment_type': dtype('O'),\n",
       " 'zip_count_4w': dtype('int64'),\n",
       " 'velocity_6h': dtype('float64'),\n",
       " 'velocity_24h': dtype('float64'),\n",
       " 'velocity_4w': dtype('float64'),\n",
       " 'bank_branch_count_8w': dtype('int64'),\n",
       " 'date_of_birth_distinct_emails_4w': dtype('int64'),\n",
       " 'employment_status': dtype('O'),\n",
       " 'credit_risk_score': dtype('int64'),\n",
       " 'email_is_free': dtype('int64'),\n",
       " 'housing_status': dtype('O'),\n",
       " 'phone_home_valid': dtype('int64'),\n",
       " 'phone_mobile_valid': dtype('int64'),\n",
       " 'bank_months_count': dtype('float64'),\n",
       " 'has_other_cards': dtype('int64'),\n",
       " 'proposed_credit_limit': dtype('float64'),\n",
       " 'foreign_request': dtype('int64'),\n",
       " 'source': dtype('O'),\n",
       " 'session_length_in_minutes': dtype('float64'),\n",
       " 'device_os': dtype('O'),\n",
       " 'keep_alive_session': dtype('int64'),\n",
       " 'device_distinct_emails_8w': dtype('int64'),\n",
       " 'device_fraud_count': dtype('int64'),\n",
       " 'month': dtype('int64')}"
      ]
     },
     "execution_count": 6,
     "metadata": {},
     "output_type": "execute_result"
    }
   ],
   "source": [
    "df_base.dtypes.to_dict()"
   ]
  },
  {
   "cell_type": "markdown",
   "id": "5d1507bb58f728e",
   "metadata": {
    "collapsed": false
   },
   "source": [
    "### Exploración de la variable objetivo y tratamiento"
   ]
  },
  {
   "cell_type": "code",
   "execution_count": 7,
   "id": "9c1541636b021f33",
   "metadata": {
    "ExecuteTime": {
     "end_time": "2023-11-03T19:42:55.785516500Z",
     "start_time": "2023-11-03T19:42:54.601729900Z"
    },
    "collapsed": false
   },
   "outputs": [
    {
     "data": {
      "text/html": [
       "<div>\n",
       "<style scoped>\n",
       "    .dataframe tbody tr th:only-of-type {\n",
       "        vertical-align: middle;\n",
       "    }\n",
       "\n",
       "    .dataframe tbody tr th {\n",
       "        vertical-align: top;\n",
       "    }\n",
       "\n",
       "    .dataframe thead th {\n",
       "        text-align: right;\n",
       "    }\n",
       "</style>\n",
       "<table border=\"1\" class=\"dataframe\">\n",
       "  <thead>\n",
       "    <tr style=\"text-align: right;\">\n",
       "      <th></th>\n",
       "      <th>index</th>\n",
       "      <th>percent</th>\n",
       "      <th>fraud_bool</th>\n",
       "    </tr>\n",
       "  </thead>\n",
       "  <tbody>\n",
       "    <tr>\n",
       "      <th>0</th>\n",
       "      <td>0</td>\n",
       "      <td>98.8971</td>\n",
       "      <td>988971</td>\n",
       "    </tr>\n",
       "    <tr>\n",
       "      <th>1</th>\n",
       "      <td>1</td>\n",
       "      <td>1.1029</td>\n",
       "      <td>11029</td>\n",
       "    </tr>\n",
       "  </tbody>\n",
       "</table>\n",
       "</div>"
      ],
      "text/plain": [
       "   index  percent  fraud_bool\n",
       "0      0  98.8971      988971\n",
       "1      1   1.1029       11029"
      ]
     },
     "execution_count": 7,
     "metadata": {},
     "output_type": "execute_result"
    }
   ],
   "source": [
    "df_base_fraud_status = df_base['fraud_bool'] \\\n",
    "    .value_counts(normalize=True) \\\n",
    "    .mul(100).rename('percent').reset_index()\n",
    "\n",
    "df_base_fraud_status_conteo = df_base['fraud_bool'].value_counts().reset_index()\n",
    "df_base_fraud_status_pc = pd.merge(df_base_fraud_status, df_base_fraud_status_conteo, on=['index'], how='inner')\n",
    "df_base_fraud_status_pc"
   ]
  },
  {
   "cell_type": "markdown",
   "metadata": {},
   "source": [
    "Esta linea de codigo proporciona una visión detallada de la distribución de la columna 'fraud_bool', incluyendo el porcentaje de cada valor y la frecuencia absoluta."
   ]
  },
  {
   "cell_type": "code",
   "execution_count": 8,
   "id": "d07e25bba7cd534c",
   "metadata": {
    "collapsed": false
   },
   "outputs": [
    {
     "data": {
      "application/vnd.plotly.v1+json": {
       "config": {
        "plotlyServerURL": "https://plot.ly"
       },
       "data": [
        {
         "alignmentgroup": "True",
         "bingroup": "x",
         "histfunc": "sum",
         "hovertemplate": "variable=percent<br>index=%{x}<br>sum of value=%{y}<extra></extra>",
         "legendgroup": "percent",
         "marker": {
          "color": "#636efa",
          "pattern": {
           "shape": ""
          }
         },
         "name": "percent",
         "offsetgroup": "percent",
         "orientation": "v",
         "showlegend": true,
         "type": "histogram",
         "x": [
          0,
          1
         ],
         "xaxis": "x",
         "y": [
          98.89710000000001,
          1.1029
         ],
         "yaxis": "y"
        }
       ],
       "layout": {
        "barmode": "relative",
        "legend": {
         "title": {
          "text": "variable"
         },
         "tracegroupgap": 0
        },
        "margin": {
         "t": 60
        },
        "template": {
         "data": {
          "bar": [
           {
            "error_x": {
             "color": "#2a3f5f"
            },
            "error_y": {
             "color": "#2a3f5f"
            },
            "marker": {
             "line": {
              "color": "#E5ECF6",
              "width": 0.5
             },
             "pattern": {
              "fillmode": "overlay",
              "size": 10,
              "solidity": 0.2
             }
            },
            "type": "bar"
           }
          ],
          "barpolar": [
           {
            "marker": {
             "line": {
              "color": "#E5ECF6",
              "width": 0.5
             },
             "pattern": {
              "fillmode": "overlay",
              "size": 10,
              "solidity": 0.2
             }
            },
            "type": "barpolar"
           }
          ],
          "carpet": [
           {
            "aaxis": {
             "endlinecolor": "#2a3f5f",
             "gridcolor": "white",
             "linecolor": "white",
             "minorgridcolor": "white",
             "startlinecolor": "#2a3f5f"
            },
            "baxis": {
             "endlinecolor": "#2a3f5f",
             "gridcolor": "white",
             "linecolor": "white",
             "minorgridcolor": "white",
             "startlinecolor": "#2a3f5f"
            },
            "type": "carpet"
           }
          ],
          "choropleth": [
           {
            "colorbar": {
             "outlinewidth": 0,
             "ticks": ""
            },
            "type": "choropleth"
           }
          ],
          "contour": [
           {
            "colorbar": {
             "outlinewidth": 0,
             "ticks": ""
            },
            "colorscale": [
             [
              0,
              "#0d0887"
             ],
             [
              0.1111111111111111,
              "#46039f"
             ],
             [
              0.2222222222222222,
              "#7201a8"
             ],
             [
              0.3333333333333333,
              "#9c179e"
             ],
             [
              0.4444444444444444,
              "#bd3786"
             ],
             [
              0.5555555555555556,
              "#d8576b"
             ],
             [
              0.6666666666666666,
              "#ed7953"
             ],
             [
              0.7777777777777778,
              "#fb9f3a"
             ],
             [
              0.8888888888888888,
              "#fdca26"
             ],
             [
              1,
              "#f0f921"
             ]
            ],
            "type": "contour"
           }
          ],
          "contourcarpet": [
           {
            "colorbar": {
             "outlinewidth": 0,
             "ticks": ""
            },
            "type": "contourcarpet"
           }
          ],
          "heatmap": [
           {
            "colorbar": {
             "outlinewidth": 0,
             "ticks": ""
            },
            "colorscale": [
             [
              0,
              "#0d0887"
             ],
             [
              0.1111111111111111,
              "#46039f"
             ],
             [
              0.2222222222222222,
              "#7201a8"
             ],
             [
              0.3333333333333333,
              "#9c179e"
             ],
             [
              0.4444444444444444,
              "#bd3786"
             ],
             [
              0.5555555555555556,
              "#d8576b"
             ],
             [
              0.6666666666666666,
              "#ed7953"
             ],
             [
              0.7777777777777778,
              "#fb9f3a"
             ],
             [
              0.8888888888888888,
              "#fdca26"
             ],
             [
              1,
              "#f0f921"
             ]
            ],
            "type": "heatmap"
           }
          ],
          "heatmapgl": [
           {
            "colorbar": {
             "outlinewidth": 0,
             "ticks": ""
            },
            "colorscale": [
             [
              0,
              "#0d0887"
             ],
             [
              0.1111111111111111,
              "#46039f"
             ],
             [
              0.2222222222222222,
              "#7201a8"
             ],
             [
              0.3333333333333333,
              "#9c179e"
             ],
             [
              0.4444444444444444,
              "#bd3786"
             ],
             [
              0.5555555555555556,
              "#d8576b"
             ],
             [
              0.6666666666666666,
              "#ed7953"
             ],
             [
              0.7777777777777778,
              "#fb9f3a"
             ],
             [
              0.8888888888888888,
              "#fdca26"
             ],
             [
              1,
              "#f0f921"
             ]
            ],
            "type": "heatmapgl"
           }
          ],
          "histogram": [
           {
            "marker": {
             "pattern": {
              "fillmode": "overlay",
              "size": 10,
              "solidity": 0.2
             }
            },
            "type": "histogram"
           }
          ],
          "histogram2d": [
           {
            "colorbar": {
             "outlinewidth": 0,
             "ticks": ""
            },
            "colorscale": [
             [
              0,
              "#0d0887"
             ],
             [
              0.1111111111111111,
              "#46039f"
             ],
             [
              0.2222222222222222,
              "#7201a8"
             ],
             [
              0.3333333333333333,
              "#9c179e"
             ],
             [
              0.4444444444444444,
              "#bd3786"
             ],
             [
              0.5555555555555556,
              "#d8576b"
             ],
             [
              0.6666666666666666,
              "#ed7953"
             ],
             [
              0.7777777777777778,
              "#fb9f3a"
             ],
             [
              0.8888888888888888,
              "#fdca26"
             ],
             [
              1,
              "#f0f921"
             ]
            ],
            "type": "histogram2d"
           }
          ],
          "histogram2dcontour": [
           {
            "colorbar": {
             "outlinewidth": 0,
             "ticks": ""
            },
            "colorscale": [
             [
              0,
              "#0d0887"
             ],
             [
              0.1111111111111111,
              "#46039f"
             ],
             [
              0.2222222222222222,
              "#7201a8"
             ],
             [
              0.3333333333333333,
              "#9c179e"
             ],
             [
              0.4444444444444444,
              "#bd3786"
             ],
             [
              0.5555555555555556,
              "#d8576b"
             ],
             [
              0.6666666666666666,
              "#ed7953"
             ],
             [
              0.7777777777777778,
              "#fb9f3a"
             ],
             [
              0.8888888888888888,
              "#fdca26"
             ],
             [
              1,
              "#f0f921"
             ]
            ],
            "type": "histogram2dcontour"
           }
          ],
          "mesh3d": [
           {
            "colorbar": {
             "outlinewidth": 0,
             "ticks": ""
            },
            "type": "mesh3d"
           }
          ],
          "parcoords": [
           {
            "line": {
             "colorbar": {
              "outlinewidth": 0,
              "ticks": ""
             }
            },
            "type": "parcoords"
           }
          ],
          "pie": [
           {
            "automargin": true,
            "type": "pie"
           }
          ],
          "scatter": [
           {
            "fillpattern": {
             "fillmode": "overlay",
             "size": 10,
             "solidity": 0.2
            },
            "type": "scatter"
           }
          ],
          "scatter3d": [
           {
            "line": {
             "colorbar": {
              "outlinewidth": 0,
              "ticks": ""
             }
            },
            "marker": {
             "colorbar": {
              "outlinewidth": 0,
              "ticks": ""
             }
            },
            "type": "scatter3d"
           }
          ],
          "scattercarpet": [
           {
            "marker": {
             "colorbar": {
              "outlinewidth": 0,
              "ticks": ""
             }
            },
            "type": "scattercarpet"
           }
          ],
          "scattergeo": [
           {
            "marker": {
             "colorbar": {
              "outlinewidth": 0,
              "ticks": ""
             }
            },
            "type": "scattergeo"
           }
          ],
          "scattergl": [
           {
            "marker": {
             "colorbar": {
              "outlinewidth": 0,
              "ticks": ""
             }
            },
            "type": "scattergl"
           }
          ],
          "scattermapbox": [
           {
            "marker": {
             "colorbar": {
              "outlinewidth": 0,
              "ticks": ""
             }
            },
            "type": "scattermapbox"
           }
          ],
          "scatterpolar": [
           {
            "marker": {
             "colorbar": {
              "outlinewidth": 0,
              "ticks": ""
             }
            },
            "type": "scatterpolar"
           }
          ],
          "scatterpolargl": [
           {
            "marker": {
             "colorbar": {
              "outlinewidth": 0,
              "ticks": ""
             }
            },
            "type": "scatterpolargl"
           }
          ],
          "scatterternary": [
           {
            "marker": {
             "colorbar": {
              "outlinewidth": 0,
              "ticks": ""
             }
            },
            "type": "scatterternary"
           }
          ],
          "surface": [
           {
            "colorbar": {
             "outlinewidth": 0,
             "ticks": ""
            },
            "colorscale": [
             [
              0,
              "#0d0887"
             ],
             [
              0.1111111111111111,
              "#46039f"
             ],
             [
              0.2222222222222222,
              "#7201a8"
             ],
             [
              0.3333333333333333,
              "#9c179e"
             ],
             [
              0.4444444444444444,
              "#bd3786"
             ],
             [
              0.5555555555555556,
              "#d8576b"
             ],
             [
              0.6666666666666666,
              "#ed7953"
             ],
             [
              0.7777777777777778,
              "#fb9f3a"
             ],
             [
              0.8888888888888888,
              "#fdca26"
             ],
             [
              1,
              "#f0f921"
             ]
            ],
            "type": "surface"
           }
          ],
          "table": [
           {
            "cells": {
             "fill": {
              "color": "#EBF0F8"
             },
             "line": {
              "color": "white"
             }
            },
            "header": {
             "fill": {
              "color": "#C8D4E3"
             },
             "line": {
              "color": "white"
             }
            },
            "type": "table"
           }
          ]
         },
         "layout": {
          "annotationdefaults": {
           "arrowcolor": "#2a3f5f",
           "arrowhead": 0,
           "arrowwidth": 1
          },
          "autotypenumbers": "strict",
          "coloraxis": {
           "colorbar": {
            "outlinewidth": 0,
            "ticks": ""
           }
          },
          "colorscale": {
           "diverging": [
            [
             0,
             "#8e0152"
            ],
            [
             0.1,
             "#c51b7d"
            ],
            [
             0.2,
             "#de77ae"
            ],
            [
             0.3,
             "#f1b6da"
            ],
            [
             0.4,
             "#fde0ef"
            ],
            [
             0.5,
             "#f7f7f7"
            ],
            [
             0.6,
             "#e6f5d0"
            ],
            [
             0.7,
             "#b8e186"
            ],
            [
             0.8,
             "#7fbc41"
            ],
            [
             0.9,
             "#4d9221"
            ],
            [
             1,
             "#276419"
            ]
           ],
           "sequential": [
            [
             0,
             "#0d0887"
            ],
            [
             0.1111111111111111,
             "#46039f"
            ],
            [
             0.2222222222222222,
             "#7201a8"
            ],
            [
             0.3333333333333333,
             "#9c179e"
            ],
            [
             0.4444444444444444,
             "#bd3786"
            ],
            [
             0.5555555555555556,
             "#d8576b"
            ],
            [
             0.6666666666666666,
             "#ed7953"
            ],
            [
             0.7777777777777778,
             "#fb9f3a"
            ],
            [
             0.8888888888888888,
             "#fdca26"
            ],
            [
             1,
             "#f0f921"
            ]
           ],
           "sequentialminus": [
            [
             0,
             "#0d0887"
            ],
            [
             0.1111111111111111,
             "#46039f"
            ],
            [
             0.2222222222222222,
             "#7201a8"
            ],
            [
             0.3333333333333333,
             "#9c179e"
            ],
            [
             0.4444444444444444,
             "#bd3786"
            ],
            [
             0.5555555555555556,
             "#d8576b"
            ],
            [
             0.6666666666666666,
             "#ed7953"
            ],
            [
             0.7777777777777778,
             "#fb9f3a"
            ],
            [
             0.8888888888888888,
             "#fdca26"
            ],
            [
             1,
             "#f0f921"
            ]
           ]
          },
          "colorway": [
           "#636efa",
           "#EF553B",
           "#00cc96",
           "#ab63fa",
           "#FFA15A",
           "#19d3f3",
           "#FF6692",
           "#B6E880",
           "#FF97FF",
           "#FECB52"
          ],
          "font": {
           "color": "#2a3f5f"
          },
          "geo": {
           "bgcolor": "white",
           "lakecolor": "white",
           "landcolor": "#E5ECF6",
           "showlakes": true,
           "showland": true,
           "subunitcolor": "white"
          },
          "hoverlabel": {
           "align": "left"
          },
          "hovermode": "closest",
          "mapbox": {
           "style": "light"
          },
          "paper_bgcolor": "white",
          "plot_bgcolor": "#E5ECF6",
          "polar": {
           "angularaxis": {
            "gridcolor": "white",
            "linecolor": "white",
            "ticks": ""
           },
           "bgcolor": "#E5ECF6",
           "radialaxis": {
            "gridcolor": "white",
            "linecolor": "white",
            "ticks": ""
           }
          },
          "scene": {
           "xaxis": {
            "backgroundcolor": "#E5ECF6",
            "gridcolor": "white",
            "gridwidth": 2,
            "linecolor": "white",
            "showbackground": true,
            "ticks": "",
            "zerolinecolor": "white"
           },
           "yaxis": {
            "backgroundcolor": "#E5ECF6",
            "gridcolor": "white",
            "gridwidth": 2,
            "linecolor": "white",
            "showbackground": true,
            "ticks": "",
            "zerolinecolor": "white"
           },
           "zaxis": {
            "backgroundcolor": "#E5ECF6",
            "gridcolor": "white",
            "gridwidth": 2,
            "linecolor": "white",
            "showbackground": true,
            "ticks": "",
            "zerolinecolor": "white"
           }
          },
          "shapedefaults": {
           "line": {
            "color": "#2a3f5f"
           }
          },
          "ternary": {
           "aaxis": {
            "gridcolor": "white",
            "linecolor": "white",
            "ticks": ""
           },
           "baxis": {
            "gridcolor": "white",
            "linecolor": "white",
            "ticks": ""
           },
           "bgcolor": "#E5ECF6",
           "caxis": {
            "gridcolor": "white",
            "linecolor": "white",
            "ticks": ""
           }
          },
          "title": {
           "x": 0.05
          },
          "xaxis": {
           "automargin": true,
           "gridcolor": "white",
           "linecolor": "white",
           "ticks": "",
           "title": {
            "standoff": 15
           },
           "zerolinecolor": "white",
           "zerolinewidth": 2
          },
          "yaxis": {
           "automargin": true,
           "gridcolor": "white",
           "linecolor": "white",
           "ticks": "",
           "title": {
            "standoff": 15
           },
           "zerolinecolor": "white",
           "zerolinewidth": 2
          }
         }
        },
        "xaxis": {
         "anchor": "y",
         "domain": [
          0,
          1
         ],
         "title": {
          "text": "index"
         }
        },
        "yaxis": {
         "anchor": "x",
         "domain": [
          0,
          1
         ],
         "title": {
          "text": "sum of value"
         }
        }
       }
      }
     },
     "metadata": {},
     "output_type": "display_data"
    }
   ],
   "source": [
    "fig = px.histogram(df_base_fraud_status_pc, x=\"index\", y=['percent'])\n",
    "fig.show()\n"
   ]
  },
  {
   "cell_type": "markdown",
   "metadata": {},
   "source": [
    "Cada barra del histograma representa un valor único en 'fraud_bool', y la altura de la barra indica el porcentaje de ocurrencia de ese valor en el conjunto de datos."
   ]
  },
  {
   "cell_type": "markdown",
   "metadata": {},
   "source": [
    "#### Selección de threshold por filas y columnas para eliminar valores missing"
   ]
  },
  {
   "cell_type": "code",
   "execution_count": 9,
   "metadata": {},
   "outputs": [
    {
     "name": "stdout",
     "output_type": "stream",
     "text": [
      "(32,) (1000000,)\n"
     ]
    }
   ],
   "source": [
    "df_series_null_columns = df_base.isnull().sum().sort_values(ascending=False)\n",
    "df_series_null_rows = df_base.isnull().sum(axis=1).sort_values(ascending=False)\n",
    "print(df_series_null_columns.shape, df_series_null_rows.shape)\n",
    "\n",
    "df_null_columnas = pd.DataFrame(df_series_null_columns, columns=['nulos_columnas'])     \n",
    "df_null_filas = pd.DataFrame(df_series_null_rows, columns=['nulos_filas'])  \n",
    "df_null_filas['target'] = df_base['fraud_bool'].copy()\n",
    "df_null_columnas['porcentaje_columnas'] = df_null_columnas['nulos_columnas']/df_base.shape[0]\n",
    "df_null_filas['porcentaje_filas']= df_null_filas['nulos_filas']/df_base.shape[1]\n",
    "# # df_null"
   ]
  },
  {
   "cell_type": "markdown",
   "metadata": {},
   "source": [
    "Este código realiza un análisis detallado de los valores nulos en el DataFrame df_base, proporcionando información sobre la cantidad y el porcentaje de valores nulos en cada columna y fila, así como su relación con la variable objetivo 'fraud_bool'."
   ]
  },
  {
   "cell_type": "code",
   "execution_count": 10,
   "metadata": {},
   "outputs": [
    {
     "data": {
      "text/plain": [
       "(1000000, 32)"
      ]
     },
     "execution_count": 10,
     "metadata": {},
     "output_type": "execute_result"
    }
   ],
   "source": [
    "df_base.shape\n"
   ]
  },
  {
   "cell_type": "code",
   "execution_count": 11,
   "metadata": {},
   "outputs": [
    {
     "data": {
      "text/html": [
       "<div>\n",
       "<style scoped>\n",
       "    .dataframe tbody tr th:only-of-type {\n",
       "        vertical-align: middle;\n",
       "    }\n",
       "\n",
       "    .dataframe tbody tr th {\n",
       "        vertical-align: top;\n",
       "    }\n",
       "\n",
       "    .dataframe thead th {\n",
       "        text-align: right;\n",
       "    }\n",
       "</style>\n",
       "<table border=\"1\" class=\"dataframe\">\n",
       "  <thead>\n",
       "    <tr style=\"text-align: right;\">\n",
       "      <th></th>\n",
       "      <th>nulos_columnas</th>\n",
       "      <th>porcentaje_columnas</th>\n",
       "    </tr>\n",
       "  </thead>\n",
       "  <tbody>\n",
       "    <tr>\n",
       "      <th>intended_balcon_amount</th>\n",
       "      <td>742523</td>\n",
       "      <td>0.742523</td>\n",
       "    </tr>\n",
       "    <tr>\n",
       "      <th>prev_address_months_count</th>\n",
       "      <td>712920</td>\n",
       "      <td>0.712920</td>\n",
       "    </tr>\n",
       "    <tr>\n",
       "      <th>bank_months_count</th>\n",
       "      <td>253635</td>\n",
       "      <td>0.253635</td>\n",
       "    </tr>\n",
       "    <tr>\n",
       "      <th>current_address_months_count</th>\n",
       "      <td>4254</td>\n",
       "      <td>0.004254</td>\n",
       "    </tr>\n",
       "    <tr>\n",
       "      <th>session_length_in_minutes</th>\n",
       "      <td>2015</td>\n",
       "      <td>0.002015</td>\n",
       "    </tr>\n",
       "    <tr>\n",
       "      <th>fraud_bool</th>\n",
       "      <td>0</td>\n",
       "      <td>0.000000</td>\n",
       "    </tr>\n",
       "    <tr>\n",
       "      <th>foreign_request</th>\n",
       "      <td>0</td>\n",
       "      <td>0.000000</td>\n",
       "    </tr>\n",
       "    <tr>\n",
       "      <th>phone_mobile_valid</th>\n",
       "      <td>0</td>\n",
       "      <td>0.000000</td>\n",
       "    </tr>\n",
       "    <tr>\n",
       "      <th>has_other_cards</th>\n",
       "      <td>0</td>\n",
       "      <td>0.000000</td>\n",
       "    </tr>\n",
       "    <tr>\n",
       "      <th>proposed_credit_limit</th>\n",
       "      <td>0</td>\n",
       "      <td>0.000000</td>\n",
       "    </tr>\n",
       "    <tr>\n",
       "      <th>device_os</th>\n",
       "      <td>0</td>\n",
       "      <td>0.000000</td>\n",
       "    </tr>\n",
       "    <tr>\n",
       "      <th>source</th>\n",
       "      <td>0</td>\n",
       "      <td>0.000000</td>\n",
       "    </tr>\n",
       "    <tr>\n",
       "      <th>housing_status</th>\n",
       "      <td>0</td>\n",
       "      <td>0.000000</td>\n",
       "    </tr>\n",
       "    <tr>\n",
       "      <th>keep_alive_session</th>\n",
       "      <td>0</td>\n",
       "      <td>0.000000</td>\n",
       "    </tr>\n",
       "    <tr>\n",
       "      <th>device_distinct_emails_8w</th>\n",
       "      <td>0</td>\n",
       "      <td>0.000000</td>\n",
       "    </tr>\n",
       "    <tr>\n",
       "      <th>device_fraud_count</th>\n",
       "      <td>0</td>\n",
       "      <td>0.000000</td>\n",
       "    </tr>\n",
       "    <tr>\n",
       "      <th>phone_home_valid</th>\n",
       "      <td>0</td>\n",
       "      <td>0.000000</td>\n",
       "    </tr>\n",
       "    <tr>\n",
       "      <th>credit_risk_score</th>\n",
       "      <td>0</td>\n",
       "      <td>0.000000</td>\n",
       "    </tr>\n",
       "    <tr>\n",
       "      <th>email_is_free</th>\n",
       "      <td>0</td>\n",
       "      <td>0.000000</td>\n",
       "    </tr>\n",
       "    <tr>\n",
       "      <th>income</th>\n",
       "      <td>0</td>\n",
       "      <td>0.000000</td>\n",
       "    </tr>\n",
       "    <tr>\n",
       "      <th>employment_status</th>\n",
       "      <td>0</td>\n",
       "      <td>0.000000</td>\n",
       "    </tr>\n",
       "    <tr>\n",
       "      <th>date_of_birth_distinct_emails_4w</th>\n",
       "      <td>0</td>\n",
       "      <td>0.000000</td>\n",
       "    </tr>\n",
       "    <tr>\n",
       "      <th>bank_branch_count_8w</th>\n",
       "      <td>0</td>\n",
       "      <td>0.000000</td>\n",
       "    </tr>\n",
       "    <tr>\n",
       "      <th>velocity_4w</th>\n",
       "      <td>0</td>\n",
       "      <td>0.000000</td>\n",
       "    </tr>\n",
       "    <tr>\n",
       "      <th>velocity_24h</th>\n",
       "      <td>0</td>\n",
       "      <td>0.000000</td>\n",
       "    </tr>\n",
       "    <tr>\n",
       "      <th>velocity_6h</th>\n",
       "      <td>0</td>\n",
       "      <td>0.000000</td>\n",
       "    </tr>\n",
       "    <tr>\n",
       "      <th>zip_count_4w</th>\n",
       "      <td>0</td>\n",
       "      <td>0.000000</td>\n",
       "    </tr>\n",
       "    <tr>\n",
       "      <th>payment_type</th>\n",
       "      <td>0</td>\n",
       "      <td>0.000000</td>\n",
       "    </tr>\n",
       "    <tr>\n",
       "      <th>days_since_request</th>\n",
       "      <td>0</td>\n",
       "      <td>0.000000</td>\n",
       "    </tr>\n",
       "    <tr>\n",
       "      <th>customer_age</th>\n",
       "      <td>0</td>\n",
       "      <td>0.000000</td>\n",
       "    </tr>\n",
       "    <tr>\n",
       "      <th>name_email_similarity</th>\n",
       "      <td>0</td>\n",
       "      <td>0.000000</td>\n",
       "    </tr>\n",
       "    <tr>\n",
       "      <th>month</th>\n",
       "      <td>0</td>\n",
       "      <td>0.000000</td>\n",
       "    </tr>\n",
       "  </tbody>\n",
       "</table>\n",
       "</div>"
      ],
      "text/plain": [
       "                                  nulos_columnas  porcentaje_columnas\n",
       "intended_balcon_amount                    742523             0.742523\n",
       "prev_address_months_count                 712920             0.712920\n",
       "bank_months_count                         253635             0.253635\n",
       "current_address_months_count                4254             0.004254\n",
       "session_length_in_minutes                   2015             0.002015\n",
       "fraud_bool                                     0             0.000000\n",
       "foreign_request                                0             0.000000\n",
       "phone_mobile_valid                             0             0.000000\n",
       "has_other_cards                                0             0.000000\n",
       "proposed_credit_limit                          0             0.000000\n",
       "device_os                                      0             0.000000\n",
       "source                                         0             0.000000\n",
       "housing_status                                 0             0.000000\n",
       "keep_alive_session                             0             0.000000\n",
       "device_distinct_emails_8w                      0             0.000000\n",
       "device_fraud_count                             0             0.000000\n",
       "phone_home_valid                               0             0.000000\n",
       "credit_risk_score                              0             0.000000\n",
       "email_is_free                                  0             0.000000\n",
       "income                                         0             0.000000\n",
       "employment_status                              0             0.000000\n",
       "date_of_birth_distinct_emails_4w               0             0.000000\n",
       "bank_branch_count_8w                           0             0.000000\n",
       "velocity_4w                                    0             0.000000\n",
       "velocity_24h                                   0             0.000000\n",
       "velocity_6h                                    0             0.000000\n",
       "zip_count_4w                                   0             0.000000\n",
       "payment_type                                   0             0.000000\n",
       "days_since_request                             0             0.000000\n",
       "customer_age                                   0             0.000000\n",
       "name_email_similarity                          0             0.000000\n",
       "month                                          0             0.000000"
      ]
     },
     "execution_count": 11,
     "metadata": {},
     "output_type": "execute_result"
    }
   ],
   "source": [
    "df_null_columnas\n"
   ]
  },
  {
   "cell_type": "code",
   "execution_count": 12,
   "metadata": {},
   "outputs": [
    {
     "data": {
      "text/plain": [
       "(1000000, 32)"
      ]
     },
     "execution_count": 12,
     "metadata": {},
     "output_type": "execute_result"
    }
   ],
   "source": [
    "threshold=0.9\n",
    "list_vars_not_null = list(df_null_columnas[df_null_columnas['porcentaje_columnas']<threshold].index)\n",
    "df_base_filter_null = df_base.loc[:, list_vars_not_null]\n",
    "df_base_filter_null.shape"
   ]
  },
  {
   "cell_type": "markdown",
   "metadata": {},
   "source": [
    "Filtra las columnas del DataFrame original df_base y crea un nuevo DataFrame (df_base_filter_null) que retiene solo aquellas columnas que tienen un porcentaje de valores nulos inferior al umbral especificado (90%)."
   ]
  },
  {
   "cell_type": "code",
   "execution_count": 13,
   "metadata": {},
   "outputs": [
    {
     "data": {
      "text/html": [
       "<div>\n",
       "<style scoped>\n",
       "    .dataframe tbody tr th:only-of-type {\n",
       "        vertical-align: middle;\n",
       "    }\n",
       "\n",
       "    .dataframe tbody tr th {\n",
       "        vertical-align: top;\n",
       "    }\n",
       "\n",
       "    .dataframe thead th {\n",
       "        text-align: right;\n",
       "    }\n",
       "</style>\n",
       "<table border=\"1\" class=\"dataframe\">\n",
       "  <thead>\n",
       "    <tr style=\"text-align: right;\">\n",
       "      <th></th>\n",
       "      <th>nulos_filas</th>\n",
       "      <th>target</th>\n",
       "      <th>porcentaje_filas</th>\n",
       "    </tr>\n",
       "  </thead>\n",
       "  <tbody>\n",
       "    <tr>\n",
       "      <th>526010</th>\n",
       "      <td>4</td>\n",
       "      <td>0</td>\n",
       "      <td>0.125</td>\n",
       "    </tr>\n",
       "    <tr>\n",
       "      <th>771103</th>\n",
       "      <td>4</td>\n",
       "      <td>0</td>\n",
       "      <td>0.125</td>\n",
       "    </tr>\n",
       "    <tr>\n",
       "      <th>948524</th>\n",
       "      <td>4</td>\n",
       "      <td>0</td>\n",
       "      <td>0.125</td>\n",
       "    </tr>\n",
       "    <tr>\n",
       "      <th>979619</th>\n",
       "      <td>4</td>\n",
       "      <td>0</td>\n",
       "      <td>0.125</td>\n",
       "    </tr>\n",
       "    <tr>\n",
       "      <th>553607</th>\n",
       "      <td>4</td>\n",
       "      <td>0</td>\n",
       "      <td>0.125</td>\n",
       "    </tr>\n",
       "    <tr>\n",
       "      <th>...</th>\n",
       "      <td>...</td>\n",
       "      <td>...</td>\n",
       "      <td>...</td>\n",
       "    </tr>\n",
       "    <tr>\n",
       "      <th>200377</th>\n",
       "      <td>0</td>\n",
       "      <td>0</td>\n",
       "      <td>0.000</td>\n",
       "    </tr>\n",
       "    <tr>\n",
       "      <th>568248</th>\n",
       "      <td>0</td>\n",
       "      <td>0</td>\n",
       "      <td>0.000</td>\n",
       "    </tr>\n",
       "    <tr>\n",
       "      <th>916268</th>\n",
       "      <td>0</td>\n",
       "      <td>0</td>\n",
       "      <td>0.000</td>\n",
       "    </tr>\n",
       "    <tr>\n",
       "      <th>916266</th>\n",
       "      <td>0</td>\n",
       "      <td>0</td>\n",
       "      <td>0.000</td>\n",
       "    </tr>\n",
       "    <tr>\n",
       "      <th>500000</th>\n",
       "      <td>0</td>\n",
       "      <td>0</td>\n",
       "      <td>0.000</td>\n",
       "    </tr>\n",
       "  </tbody>\n",
       "</table>\n",
       "<p>1000000 rows × 3 columns</p>\n",
       "</div>"
      ],
      "text/plain": [
       "        nulos_filas  target  porcentaje_filas\n",
       "526010            4       0             0.125\n",
       "771103            4       0             0.125\n",
       "948524            4       0             0.125\n",
       "979619            4       0             0.125\n",
       "553607            4       0             0.125\n",
       "...             ...     ...               ...\n",
       "200377            0       0             0.000\n",
       "568248            0       0             0.000\n",
       "916268            0       0             0.000\n",
       "916266            0       0             0.000\n",
       "500000            0       0             0.000\n",
       "\n",
       "[1000000 rows x 3 columns]"
      ]
     },
     "execution_count": 13,
     "metadata": {},
     "output_type": "execute_result"
    }
   ],
   "source": [
    "df_null_filas\n"
   ]
  },
  {
   "cell_type": "markdown",
   "metadata": {},
   "source": [
    "#### Tipos: Variables categoricas y numericas"
   ]
  },
  {
   "cell_type": "code",
   "execution_count": 14,
   "metadata": {},
   "outputs": [
    {
     "data": {
      "text/html": [
       "<div>\n",
       "<style scoped>\n",
       "    .dataframe tbody tr th:only-of-type {\n",
       "        vertical-align: middle;\n",
       "    }\n",
       "\n",
       "    .dataframe tbody tr th {\n",
       "        vertical-align: top;\n",
       "    }\n",
       "\n",
       "    .dataframe thead th {\n",
       "        text-align: right;\n",
       "    }\n",
       "</style>\n",
       "<table border=\"1\" class=\"dataframe\">\n",
       "  <thead>\n",
       "    <tr style=\"text-align: right;\">\n",
       "      <th></th>\n",
       "      <th>fraud_bool</th>\n",
       "      <th>device_os</th>\n",
       "      <th>source</th>\n",
       "      <th>housing_status</th>\n",
       "      <th>employment_status</th>\n",
       "      <th>payment_type</th>\n",
       "    </tr>\n",
       "  </thead>\n",
       "  <tbody>\n",
       "    <tr>\n",
       "      <th>0</th>\n",
       "      <td>1</td>\n",
       "      <td>windows</td>\n",
       "      <td>INTERNET</td>\n",
       "      <td>BA</td>\n",
       "      <td>CA</td>\n",
       "      <td>AA</td>\n",
       "    </tr>\n",
       "    <tr>\n",
       "      <th>1</th>\n",
       "      <td>1</td>\n",
       "      <td>windows</td>\n",
       "      <td>INTERNET</td>\n",
       "      <td>BA</td>\n",
       "      <td>CA</td>\n",
       "      <td>AB</td>\n",
       "    </tr>\n",
       "    <tr>\n",
       "      <th>2</th>\n",
       "      <td>1</td>\n",
       "      <td>other</td>\n",
       "      <td>INTERNET</td>\n",
       "      <td>BA</td>\n",
       "      <td>CB</td>\n",
       "      <td>AC</td>\n",
       "    </tr>\n",
       "    <tr>\n",
       "      <th>3</th>\n",
       "      <td>1</td>\n",
       "      <td>linux</td>\n",
       "      <td>INTERNET</td>\n",
       "      <td>BA</td>\n",
       "      <td>CA</td>\n",
       "      <td>AB</td>\n",
       "    </tr>\n",
       "    <tr>\n",
       "      <th>4</th>\n",
       "      <td>1</td>\n",
       "      <td>macintosh</td>\n",
       "      <td>INTERNET</td>\n",
       "      <td>BA</td>\n",
       "      <td>CA</td>\n",
       "      <td>AB</td>\n",
       "    </tr>\n",
       "  </tbody>\n",
       "</table>\n",
       "</div>"
      ],
      "text/plain": [
       "  fraud_bool  device_os    source housing_status employment_status  \\\n",
       "0          1    windows  INTERNET             BA                CA   \n",
       "1          1    windows  INTERNET             BA                CA   \n",
       "2          1      other  INTERNET             BA                CB   \n",
       "3          1      linux  INTERNET             BA                CA   \n",
       "4          1  macintosh  INTERNET             BA                CA   \n",
       "\n",
       "  payment_type  \n",
       "0           AA  \n",
       "1           AB  \n",
       "2           AC  \n",
       "3           AB  \n",
       "4           AB  "
      ]
     },
     "execution_count": 14,
     "metadata": {},
     "output_type": "execute_result"
    }
   ],
   "source": [
    "list_cat_vars, other = dame_variables_categoricas(dataset=df_base_filter_null)\n",
    "df_base_filter_null[list_cat_vars] = df_base_filter_null[list_cat_vars].astype(\"category\")\n",
    "df_base_filter_null[list_cat_vars].head()"
   ]
  },
  {
   "cell_type": "markdown",
   "metadata": {},
   "source": [
    "Identifica las variables categóricas en df_base_filter_null, las convierte al tipo de dato \"category\" y luego imprime una vista previa de esas columnas."
   ]
  },
  {
   "cell_type": "code",
   "execution_count": 15,
   "metadata": {},
   "outputs": [
    {
     "data": {
      "text/plain": [
       "['fraud_bool',\n",
       " 'device_os',\n",
       " 'source',\n",
       " 'housing_status',\n",
       " 'employment_status',\n",
       " 'payment_type']"
      ]
     },
     "execution_count": 15,
     "metadata": {},
     "output_type": "execute_result"
    }
   ],
   "source": [
    "list_cat_vars\n"
   ]
  },
  {
   "cell_type": "code",
   "execution_count": 16,
   "metadata": {},
   "outputs": [
    {
     "data": {
      "text/plain": [
       "3    150936\n",
       "2    136979\n",
       "0    132440\n",
       "4    127691\n",
       "1    127620\n",
       "5    119323\n",
       "6    108168\n",
       "7     96843\n",
       "Name: month, dtype: int64"
      ]
     },
     "execution_count": 16,
     "metadata": {},
     "output_type": "execute_result"
    }
   ],
   "source": [
    "df_base_filter_null['month'].value_counts()\n"
   ]
  },
  {
   "cell_type": "code",
   "execution_count": 17,
   "metadata": {},
   "outputs": [
    {
     "data": {
      "text/plain": [
       "1.0     194802\n",
       "28.0     80082\n",
       "15.0     59141\n",
       "30.0     50777\n",
       "31.0     46084\n",
       "25.0     40450\n",
       "10.0     37158\n",
       "20.0     30850\n",
       "21.0     29098\n",
       "5.0      28001\n",
       "2.0      25836\n",
       "26.0     24779\n",
       "11.0     23745\n",
       "6.0      17678\n",
       "29.0     11696\n",
       "3.0       8580\n",
       "19.0      8212\n",
       "22.0      6741\n",
       "9.0       4801\n",
       "16.0      4563\n",
       "27.0      4197\n",
       "4.0       3834\n",
       "24.0      1822\n",
       "12.0      1121\n",
       "7.0        931\n",
       "14.0       493\n",
       "18.0       491\n",
       "23.0       320\n",
       "32.0        46\n",
       "8.0         30\n",
       "17.0         4\n",
       "13.0         2\n",
       "Name: bank_months_count, dtype: int64"
      ]
     },
     "execution_count": 17,
     "metadata": {},
     "output_type": "execute_result"
    }
   ],
   "source": [
    "df_base_filter_null['bank_months_count'].value_counts()\n"
   ]
  },
  {
   "cell_type": "code",
   "execution_count": 18,
   "metadata": {},
   "outputs": [
    {
     "data": {
      "text/plain": [
       "fraud_bool           category\n",
       "device_os            category\n",
       "source               category\n",
       "housing_status       category\n",
       "employment_status    category\n",
       "payment_type         category\n",
       "dtype: object"
      ]
     },
     "execution_count": 18,
     "metadata": {},
     "output_type": "execute_result"
    }
   ],
   "source": [
    "df_base_filter_null[list_cat_vars].dtypes\n"
   ]
  },
  {
   "cell_type": "code",
   "execution_count": 19,
   "metadata": {},
   "outputs": [
    {
     "data": {
      "text/html": [
       "<div>\n",
       "<style scoped>\n",
       "    .dataframe tbody tr th:only-of-type {\n",
       "        vertical-align: middle;\n",
       "    }\n",
       "\n",
       "    .dataframe tbody tr th {\n",
       "        vertical-align: top;\n",
       "    }\n",
       "\n",
       "    .dataframe thead th {\n",
       "        text-align: right;\n",
       "    }\n",
       "</style>\n",
       "<table border=\"1\" class=\"dataframe\">\n",
       "  <thead>\n",
       "    <tr style=\"text-align: right;\">\n",
       "      <th></th>\n",
       "      <th>foreign_request</th>\n",
       "      <th>phone_mobile_valid</th>\n",
       "      <th>has_other_cards</th>\n",
       "      <th>keep_alive_session</th>\n",
       "      <th>device_distinct_emails_8w</th>\n",
       "      <th>device_fraud_count</th>\n",
       "      <th>phone_home_valid</th>\n",
       "      <th>credit_risk_score</th>\n",
       "      <th>email_is_free</th>\n",
       "      <th>date_of_birth_distinct_emails_4w</th>\n",
       "      <th>bank_branch_count_8w</th>\n",
       "      <th>zip_count_4w</th>\n",
       "      <th>customer_age</th>\n",
       "      <th>month</th>\n",
       "    </tr>\n",
       "  </thead>\n",
       "  <tbody>\n",
       "    <tr>\n",
       "      <th>0</th>\n",
       "      <td>0</td>\n",
       "      <td>0</td>\n",
       "      <td>0</td>\n",
       "      <td>0</td>\n",
       "      <td>1</td>\n",
       "      <td>0</td>\n",
       "      <td>1</td>\n",
       "      <td>185</td>\n",
       "      <td>0</td>\n",
       "      <td>6</td>\n",
       "      <td>1</td>\n",
       "      <td>769</td>\n",
       "      <td>50</td>\n",
       "      <td>7</td>\n",
       "    </tr>\n",
       "    <tr>\n",
       "      <th>1</th>\n",
       "      <td>0</td>\n",
       "      <td>0</td>\n",
       "      <td>0</td>\n",
       "      <td>0</td>\n",
       "      <td>1</td>\n",
       "      <td>0</td>\n",
       "      <td>0</td>\n",
       "      <td>259</td>\n",
       "      <td>1</td>\n",
       "      <td>3</td>\n",
       "      <td>718</td>\n",
       "      <td>366</td>\n",
       "      <td>50</td>\n",
       "      <td>7</td>\n",
       "    </tr>\n",
       "    <tr>\n",
       "      <th>2</th>\n",
       "      <td>0</td>\n",
       "      <td>1</td>\n",
       "      <td>0</td>\n",
       "      <td>0</td>\n",
       "      <td>1</td>\n",
       "      <td>0</td>\n",
       "      <td>0</td>\n",
       "      <td>177</td>\n",
       "      <td>1</td>\n",
       "      <td>14</td>\n",
       "      <td>1</td>\n",
       "      <td>870</td>\n",
       "      <td>40</td>\n",
       "      <td>7</td>\n",
       "    </tr>\n",
       "    <tr>\n",
       "      <th>3</th>\n",
       "      <td>0</td>\n",
       "      <td>1</td>\n",
       "      <td>1</td>\n",
       "      <td>0</td>\n",
       "      <td>1</td>\n",
       "      <td>0</td>\n",
       "      <td>0</td>\n",
       "      <td>110</td>\n",
       "      <td>1</td>\n",
       "      <td>6</td>\n",
       "      <td>1921</td>\n",
       "      <td>810</td>\n",
       "      <td>50</td>\n",
       "      <td>7</td>\n",
       "    </tr>\n",
       "    <tr>\n",
       "      <th>4</th>\n",
       "      <td>0</td>\n",
       "      <td>0</td>\n",
       "      <td>0</td>\n",
       "      <td>1</td>\n",
       "      <td>1</td>\n",
       "      <td>0</td>\n",
       "      <td>1</td>\n",
       "      <td>295</td>\n",
       "      <td>1</td>\n",
       "      <td>2</td>\n",
       "      <td>1990</td>\n",
       "      <td>890</td>\n",
       "      <td>50</td>\n",
       "      <td>7</td>\n",
       "    </tr>\n",
       "    <tr>\n",
       "      <th>5</th>\n",
       "      <td>0</td>\n",
       "      <td>1</td>\n",
       "      <td>0</td>\n",
       "      <td>0</td>\n",
       "      <td>1</td>\n",
       "      <td>0</td>\n",
       "      <td>0</td>\n",
       "      <td>199</td>\n",
       "      <td>1</td>\n",
       "      <td>13</td>\n",
       "      <td>5</td>\n",
       "      <td>732</td>\n",
       "      <td>30</td>\n",
       "      <td>7</td>\n",
       "    </tr>\n",
       "    <tr>\n",
       "      <th>6</th>\n",
       "      <td>0</td>\n",
       "      <td>1</td>\n",
       "      <td>0</td>\n",
       "      <td>1</td>\n",
       "      <td>1</td>\n",
       "      <td>0</td>\n",
       "      <td>1</td>\n",
       "      <td>272</td>\n",
       "      <td>1</td>\n",
       "      <td>10</td>\n",
       "      <td>13</td>\n",
       "      <td>876</td>\n",
       "      <td>30</td>\n",
       "      <td>7</td>\n",
       "    </tr>\n",
       "    <tr>\n",
       "      <th>7</th>\n",
       "      <td>1</td>\n",
       "      <td>0</td>\n",
       "      <td>0</td>\n",
       "      <td>0</td>\n",
       "      <td>1</td>\n",
       "      <td>0</td>\n",
       "      <td>1</td>\n",
       "      <td>83</td>\n",
       "      <td>1</td>\n",
       "      <td>1</td>\n",
       "      <td>40</td>\n",
       "      <td>901</td>\n",
       "      <td>50</td>\n",
       "      <td>7</td>\n",
       "    </tr>\n",
       "    <tr>\n",
       "      <th>8</th>\n",
       "      <td>0</td>\n",
       "      <td>1</td>\n",
       "      <td>0</td>\n",
       "      <td>1</td>\n",
       "      <td>1</td>\n",
       "      <td>0</td>\n",
       "      <td>1</td>\n",
       "      <td>222</td>\n",
       "      <td>0</td>\n",
       "      <td>4</td>\n",
       "      <td>2134</td>\n",
       "      <td>933</td>\n",
       "      <td>40</td>\n",
       "      <td>7</td>\n",
       "    </tr>\n",
       "    <tr>\n",
       "      <th>9</th>\n",
       "      <td>0</td>\n",
       "      <td>1</td>\n",
       "      <td>0</td>\n",
       "      <td>0</td>\n",
       "      <td>1</td>\n",
       "      <td>0</td>\n",
       "      <td>0</td>\n",
       "      <td>118</td>\n",
       "      <td>1</td>\n",
       "      <td>2</td>\n",
       "      <td>8</td>\n",
       "      <td>1176</td>\n",
       "      <td>40</td>\n",
       "      <td>7</td>\n",
       "    </tr>\n",
       "  </tbody>\n",
       "</table>\n",
       "</div>"
      ],
      "text/plain": [
       "   foreign_request  phone_mobile_valid  has_other_cards  keep_alive_session  \\\n",
       "0                0                   0                0                   0   \n",
       "1                0                   0                0                   0   \n",
       "2                0                   1                0                   0   \n",
       "3                0                   1                1                   0   \n",
       "4                0                   0                0                   1   \n",
       "5                0                   1                0                   0   \n",
       "6                0                   1                0                   1   \n",
       "7                1                   0                0                   0   \n",
       "8                0                   1                0                   1   \n",
       "9                0                   1                0                   0   \n",
       "\n",
       "   device_distinct_emails_8w  device_fraud_count  phone_home_valid  \\\n",
       "0                          1                   0                 1   \n",
       "1                          1                   0                 0   \n",
       "2                          1                   0                 0   \n",
       "3                          1                   0                 0   \n",
       "4                          1                   0                 1   \n",
       "5                          1                   0                 0   \n",
       "6                          1                   0                 1   \n",
       "7                          1                   0                 1   \n",
       "8                          1                   0                 1   \n",
       "9                          1                   0                 0   \n",
       "\n",
       "   credit_risk_score  email_is_free  date_of_birth_distinct_emails_4w  \\\n",
       "0                185              0                                 6   \n",
       "1                259              1                                 3   \n",
       "2                177              1                                14   \n",
       "3                110              1                                 6   \n",
       "4                295              1                                 2   \n",
       "5                199              1                                13   \n",
       "6                272              1                                10   \n",
       "7                 83              1                                 1   \n",
       "8                222              0                                 4   \n",
       "9                118              1                                 2   \n",
       "\n",
       "   bank_branch_count_8w  zip_count_4w  customer_age  month  \n",
       "0                     1           769            50      7  \n",
       "1                   718           366            50      7  \n",
       "2                     1           870            40      7  \n",
       "3                  1921           810            50      7  \n",
       "4                  1990           890            50      7  \n",
       "5                     5           732            30      7  \n",
       "6                    13           876            30      7  \n",
       "7                    40           901            50      7  \n",
       "8                  2134           933            40      7  \n",
       "9                     8          1176            40      7  "
      ]
     },
     "execution_count": 19,
     "metadata": {},
     "output_type": "execute_result"
    }
   ],
   "source": [
    "df_base_filter_null[other].head(10)\n"
   ]
  },
  {
   "cell_type": "code",
   "execution_count": 20,
   "metadata": {},
   "outputs": [
    {
     "name": "stdout",
     "output_type": "stream",
     "text": [
      "422\n"
     ]
    },
    {
     "data": {
      "text/plain": [
       "6.0      0.016376\n",
       "7.0      0.016270\n",
       "8.0      0.016089\n",
       "5.0      0.015896\n",
       "9.0      0.015688\n",
       "4.0      0.015030\n",
       "10.0     0.014739\n",
       "11.0     0.013988\n",
       "3.0      0.013986\n",
       "12.0     0.013063\n",
       "2.0      0.012741\n",
       "13.0     0.011802\n",
       "1.0      0.011297\n",
       "14.0     0.010946\n",
       "15.0     0.009699\n",
       "0.0      0.009609\n",
       "38.0     0.009021\n",
       "40.0     0.008924\n",
       "41.0     0.008835\n",
       "37.0     0.008831\n",
       "33.0     0.008811\n",
       "34.0     0.008807\n",
       "36.0     0.008795\n",
       "39.0     0.008776\n",
       "35.0     0.008767\n",
       "42.0     0.008704\n",
       "16.0     0.008615\n",
       "43.0     0.008436\n",
       "32.0     0.008424\n",
       "31.0     0.008188\n",
       "44.0     0.008165\n",
       "45.0     0.008041\n",
       "46.0     0.007994\n",
       "30.0     0.007857\n",
       "17.0     0.007634\n",
       "29.0     0.007436\n",
       "47.0     0.007429\n",
       "49.0     0.007233\n",
       "48.0     0.007198\n",
       "28.0     0.007161\n",
       "18.0     0.007074\n",
       "27.0     0.006861\n",
       "50.0     0.006818\n",
       "26.0     0.006560\n",
       "51.0     0.006408\n",
       "52.0     0.006342\n",
       "19.0     0.006337\n",
       "25.0     0.006331\n",
       "53.0     0.006180\n",
       "20.0     0.006116\n",
       "23.0     0.005948\n",
       "24.0     0.005934\n",
       "54.0     0.005930\n",
       "21.0     0.005755\n",
       "22.0     0.005747\n",
       "55.0     0.005625\n",
       "56.0     0.005599\n",
       "57.0     0.005315\n",
       "58.0     0.005218\n",
       "59.0     0.004995\n",
       "60.0     0.004867\n",
       "61.0     0.004716\n",
       "63.0     0.004604\n",
       "62.0     0.004570\n",
       "64.0     0.004515\n",
       "65.0     0.004453\n",
       "67.0     0.004391\n",
       "69.0     0.004295\n",
       "66.0     0.004269\n",
       "nan      0.004254\n",
       "68.0     0.004151\n",
       "71.0     0.004145\n",
       "70.0     0.004079\n",
       "72.0     0.004052\n",
       "73.0     0.004042\n",
       "74.0     0.003920\n",
       "75.0     0.003852\n",
       "76.0     0.003698\n",
       "77.0     0.003644\n",
       "78.0     0.003588\n",
       "79.0     0.003470\n",
       "80.0     0.003385\n",
       "81.0     0.003163\n",
       "82.0     0.003146\n",
       "83.0     0.003081\n",
       "84.0     0.002967\n",
       "85.0     0.002883\n",
       "86.0     0.002824\n",
       "188.0    0.002766\n",
       "187.0    0.002740\n",
       "87.0     0.002720\n",
       "189.0    0.002700\n",
       "88.0     0.002698\n",
       "89.0     0.002671\n",
       "186.0    0.002629\n",
       "115.0    0.002593\n",
       "191.0    0.002588\n",
       "185.0    0.002572\n",
       "184.0    0.002557\n",
       "113.0    0.002548\n",
       "190.0    0.002540\n",
       "192.0    0.002527\n",
       "90.0     0.002515\n",
       "112.0    0.002499\n",
       "91.0     0.002499\n",
       "118.0    0.002488\n",
       "111.0    0.002485\n",
       "194.0    0.002483\n",
       "122.0    0.002468\n",
       "110.0    0.002455\n",
       "107.0    0.002451\n",
       "114.0    0.002449\n",
       "193.0    0.002447\n",
       "183.0    0.002441\n",
       "117.0    0.002440\n",
       "124.0    0.002437\n",
       "116.0    0.002418\n",
       "120.0    0.002416\n",
       "101.0    0.002413\n",
       "92.0     0.002409\n",
       "105.0    0.002409\n",
       "94.0     0.002401\n",
       "108.0    0.002400\n",
       "123.0    0.002388\n",
       "106.0    0.002388\n",
       "93.0     0.002383\n",
       "99.0     0.002380\n",
       "95.0     0.002378\n",
       "109.0    0.002377\n",
       "195.0    0.002373\n",
       "119.0    0.002366\n",
       "182.0    0.002365\n",
       "98.0     0.002364\n",
       "104.0    0.002349\n",
       "125.0    0.002332\n",
       "102.0    0.002330\n",
       "128.0    0.002328\n",
       "127.0    0.002317\n",
       "96.0     0.002311\n",
       "121.0    0.002308\n",
       "103.0    0.002295\n",
       "100.0    0.002259\n",
       "126.0    0.002255\n",
       "97.0     0.002254\n",
       "129.0    0.002217\n",
       "181.0    0.002185\n",
       "130.0    0.002183\n",
       "132.0    0.002178\n",
       "135.0    0.002175\n",
       "196.0    0.002143\n",
       "136.0    0.002111\n",
       "180.0    0.002098\n",
       "131.0    0.002078\n",
       "133.0    0.002062\n",
       "134.0    0.002058\n",
       "138.0    0.002054\n",
       "137.0    0.002046\n",
       "179.0    0.002038\n",
       "197.0    0.002024\n",
       "139.0    0.002008\n",
       "142.0    0.001987\n",
       "141.0    0.001976\n",
       "178.0    0.001973\n",
       "140.0    0.001952\n",
       "143.0    0.001945\n",
       "198.0    0.001928\n",
       "144.0    0.001899\n",
       "145.0    0.001890\n",
       "147.0    0.001890\n",
       "177.0    0.001873\n",
       "148.0    0.001857\n",
       "149.0    0.001850\n",
       "146.0    0.001825\n",
       "151.0    0.001824\n",
       "153.0    0.001806\n",
       "152.0    0.001800\n",
       "155.0    0.001783\n",
       "150.0    0.001774\n",
       "156.0    0.001738\n",
       "199.0    0.001712\n",
       "154.0    0.001708\n",
       "176.0    0.001703\n",
       "157.0    0.001703\n",
       "160.0    0.001688\n",
       "175.0    0.001660\n",
       "159.0    0.001649\n",
       "158.0    0.001624\n",
       "164.0    0.001593\n",
       "161.0    0.001592\n",
       "200.0    0.001560\n",
       "162.0    0.001540\n",
       "163.0    0.001532\n",
       "174.0    0.001523\n",
       "173.0    0.001498\n",
       "165.0    0.001494\n",
       "166.0    0.001471\n",
       "170.0    0.001463\n",
       "167.0    0.001456\n",
       "171.0    0.001454\n",
       "201.0    0.001446\n",
       "172.0    0.001444\n",
       "169.0    0.001411\n",
       "168.0    0.001391\n",
       "202.0    0.001306\n",
       "203.0    0.001250\n",
       "204.0    0.001093\n",
       "238.0    0.001052\n",
       "235.0    0.001015\n",
       "236.0    0.001013\n",
       "237.0    0.000988\n",
       "233.0    0.000987\n",
       "241.0    0.000985\n",
       "242.0    0.000982\n",
       "232.0    0.000978\n",
       "231.0    0.000977\n",
       "240.0    0.000965\n",
       "230.0    0.000963\n",
       "234.0    0.000963\n",
       "247.0    0.000962\n",
       "228.0    0.000961\n",
       "229.0    0.000953\n",
       "246.0    0.000953\n",
       "239.0    0.000945\n",
       "226.0    0.000944\n",
       "227.0    0.000940\n",
       "243.0    0.000938\n",
       "370.0    0.000930\n",
       "205.0    0.000920\n",
       "244.0    0.000914\n",
       "245.0    0.000903\n",
       "367.0    0.000903\n",
       "224.0    0.000897\n",
       "368.0    0.000874\n",
       "369.0    0.000871\n",
       "251.0    0.000871\n",
       "225.0    0.000871\n",
       "222.0    0.000860\n",
       "248.0    0.000853\n",
       "250.0    0.000849\n",
       "371.0    0.000841\n",
       "365.0    0.000840\n",
       "223.0    0.000838\n",
       "254.0    0.000835\n",
       "373.0    0.000826\n",
       "253.0    0.000826\n",
       "219.0    0.000823\n",
       "252.0    0.000819\n",
       "207.0    0.000815\n",
       "249.0    0.000815\n",
       "206.0    0.000812\n",
       "221.0    0.000805\n",
       "364.0    0.000805\n",
       "366.0    0.000804\n",
       "372.0    0.000795\n",
       "220.0    0.000789\n",
       "255.0    0.000785\n",
       "256.0    0.000785\n",
       "374.0    0.000773\n",
       "217.0    0.000767\n",
       "363.0    0.000758\n",
       "208.0    0.000753\n",
       "258.0    0.000738\n",
       "257.0    0.000736\n",
       "375.0    0.000734\n",
       "262.0    0.000729\n",
       "215.0    0.000724\n",
       "218.0    0.000708\n",
       "209.0    0.000705\n",
       "210.0    0.000698\n",
       "361.0    0.000698\n",
       "362.0    0.000692\n",
       "259.0    0.000687\n",
       "376.0    0.000682\n",
       "216.0    0.000676\n",
       "377.0    0.000674\n",
       "261.0    0.000673\n",
       "260.0    0.000672\n",
       "213.0    0.000667\n",
       "211.0    0.000666\n",
       "212.0    0.000665\n",
       "264.0    0.000626\n",
       "214.0    0.000617\n",
       "263.0    0.000617\n",
       "360.0    0.000613\n",
       "378.0    0.000612\n",
       "265.0    0.000610\n",
       "267.0    0.000598\n",
       "268.0    0.000589\n",
       "266.0    0.000587\n",
       "359.0    0.000569\n",
       "269.0    0.000559\n",
       "358.0    0.000535\n",
       "270.0    0.000532\n",
       "278.0    0.000518\n",
       "271.0    0.000515\n",
       "299.0    0.000515\n",
       "272.0    0.000513\n",
       "275.0    0.000510\n",
       "379.0    0.000506\n",
       "302.0    0.000500\n",
       "284.0    0.000498\n",
       "277.0    0.000494\n",
       "274.0    0.000494\n",
       "273.0    0.000493\n",
       "295.0    0.000492\n",
       "296.0    0.000492\n",
       "294.0    0.000488\n",
       "380.0    0.000487\n",
       "288.0    0.000483\n",
       "297.0    0.000479\n",
       "291.0    0.000475\n",
       "276.0    0.000474\n",
       "289.0    0.000474\n",
       "301.0    0.000474\n",
       "310.0    0.000469\n",
       "309.0    0.000465\n",
       "304.0    0.000465\n",
       "290.0    0.000465\n",
       "298.0    0.000464\n",
       "307.0    0.000464\n",
       "286.0    0.000462\n",
       "311.0    0.000456\n",
       "303.0    0.000454\n",
       "280.0    0.000453\n",
       "356.0    0.000453\n",
       "287.0    0.000452\n",
       "357.0    0.000452\n",
       "312.0    0.000446\n",
       "282.0    0.000446\n",
       "306.0    0.000444\n",
       "281.0    0.000444\n",
       "300.0    0.000442\n",
       "279.0    0.000436\n",
       "308.0    0.000435\n",
       "292.0    0.000435\n",
       "293.0    0.000429\n",
       "305.0    0.000428\n",
       "315.0    0.000424\n",
       "313.0    0.000422\n",
       "321.0    0.000422\n",
       "381.0    0.000419\n",
       "283.0    0.000417\n",
       "285.0    0.000417\n",
       "317.0    0.000406\n",
       "316.0    0.000401\n",
       "319.0    0.000401\n",
       "355.0    0.000398\n",
       "314.0    0.000392\n",
       "325.0    0.000391\n",
       "318.0    0.000391\n",
       "322.0    0.000377\n",
       "324.0    0.000376\n",
       "320.0    0.000374\n",
       "327.0    0.000363\n",
       "323.0    0.000360\n",
       "326.0    0.000351\n",
       "382.0    0.000343\n",
       "354.0    0.000332\n",
       "328.0    0.000331\n",
       "383.0    0.000331\n",
       "332.0    0.000328\n",
       "331.0    0.000324\n",
       "329.0    0.000322\n",
       "352.0    0.000308\n",
       "333.0    0.000290\n",
       "335.0    0.000287\n",
       "338.0    0.000287\n",
       "353.0    0.000287\n",
       "330.0    0.000286\n",
       "334.0    0.000284\n",
       "336.0    0.000278\n",
       "384.0    0.000277\n",
       "337.0    0.000267\n",
       "343.0    0.000254\n",
       "339.0    0.000254\n",
       "385.0    0.000248\n",
       "340.0    0.000243\n",
       "349.0    0.000242\n",
       "351.0    0.000234\n",
       "344.0    0.000229\n",
       "350.0    0.000229\n",
       "348.0    0.000226\n",
       "346.0    0.000223\n",
       "341.0    0.000221\n",
       "345.0    0.000215\n",
       "347.0    0.000209\n",
       "342.0    0.000204\n",
       "386.0    0.000160\n",
       "387.0    0.000131\n",
       "388.0    0.000115\n",
       "389.0    0.000110\n",
       "390.0    0.000064\n",
       "391.0    0.000048\n",
       "392.0    0.000038\n",
       "393.0    0.000021\n",
       "394.0    0.000017\n",
       "395.0    0.000015\n",
       "396.0    0.000010\n",
       "398.0    0.000008\n",
       "397.0    0.000008\n",
       "399.0    0.000007\n",
       "410.0    0.000007\n",
       "402.0    0.000005\n",
       "407.0    0.000005\n",
       "401.0    0.000005\n",
       "408.0    0.000004\n",
       "406.0    0.000004\n",
       "400.0    0.000004\n",
       "404.0    0.000004\n",
       "412.0    0.000004\n",
       "405.0    0.000003\n",
       "425.0    0.000002\n",
       "418.0    0.000002\n",
       "411.0    0.000002\n",
       "416.0    0.000002\n",
       "417.0    0.000001\n",
       "424.0    0.000001\n",
       "419.0    0.000001\n",
       "403.0    0.000001\n",
       "428.0    0.000001\n",
       "413.0    0.000001\n",
       "414.0    0.000001\n",
       "409.0    0.000001\n",
       "Name: current_address_months_count, dtype: float64"
      ]
     },
     "execution_count": 20,
     "metadata": {},
     "output_type": "execute_result"
    }
   ],
   "source": [
    "print(df_base_filter_null[\"current_address_months_count\"].value_counts().count())\n",
    "df_base_filter_null[\"current_address_months_count\"]\\\n",
    "    .apply(lambda x: str(x).lower().strip()).value_counts(normalize=True)\n"
   ]
  },
  {
   "cell_type": "markdown",
   "metadata": {},
   "source": [
    "Normaliza la columna \"current_address_months_count\"."
   ]
  },
  {
   "cell_type": "markdown",
   "metadata": {},
   "source": [
    "### Preprocesamiento inicial de algunas variables"
   ]
  },
  {
   "cell_type": "code",
   "execution_count": 21,
   "metadata": {},
   "outputs": [
    {
     "name": "stderr",
     "output_type": "stream",
     "text": [
      "C:\\Users\\Victor\\AppData\\Local\\Temp\\ipykernel_2436\\1757338286.py:1: SettingWithCopyWarning:\n",
      "\n",
      "\n",
      "A value is trying to be set on a copy of a slice from a DataFrame\n",
      "\n",
      "See the caveats in the documentation: https://pandas.pydata.org/pandas-docs/stable/user_guide/indexing.html#returning-a-view-versus-a-copy\n",
      "\n",
      "C:\\Users\\Victor\\AppData\\Local\\Temp\\ipykernel_2436\\1757338286.py:2: SettingWithCopyWarning:\n",
      "\n",
      "\n",
      "A value is trying to be set on a copy of a slice from a DataFrame\n",
      "\n",
      "See the caveats in the documentation: https://pandas.pydata.org/pandas-docs/stable/user_guide/indexing.html#returning-a-view-versus-a-copy\n",
      "\n"
     ]
    }
   ],
   "source": [
    "df_base_filter_null[\"income\"][df_base_filter_null[\"income\"] == 0.6000000000000001] = 0.6\n",
    "df_base_filter_null[\"income\"][df_base_filter_null[\"income\"] == 0.7000000000000001]=0.7"
   ]
  },
  {
   "cell_type": "markdown",
   "metadata": {},
   "source": [
    "Redondeamos los valores."
   ]
  },
  {
   "cell_type": "code",
   "execution_count": 22,
   "metadata": {},
   "outputs": [],
   "source": [
    "for i in list(df_base_filter_null.columns):\n",
    "    if df_base_filter_null[i].dtype == \"int64\":\n",
    "        df_base_filter_null[i] = df_base_filter_null[i].astype(\"float64\")"
   ]
  },
  {
   "cell_type": "markdown",
   "metadata": {},
   "source": [
    "Convierte todas las columnas tipo int64 en float64 para poder trabajar correctamente con ellas en la parte de preprocesamiento de datos."
   ]
  },
  {
   "cell_type": "code",
   "execution_count": 23,
   "metadata": {},
   "outputs": [],
   "source": [
    "df_base_filter_null.to_csv(\"../data/pd_data_initial_preprocessing.csv\")"
   ]
  }
 ],
 "metadata": {
  "kernelspec": {
   "display_name": "Python 3 (ipykernel)",
   "language": "python",
   "name": "python3"
  },
  "language_info": {
   "codemirror_mode": {
    "name": "ipython",
    "version": 3
   },
   "file_extension": ".py",
   "mimetype": "text/x-python",
   "name": "python",
   "nbconvert_exporter": "python",
   "pygments_lexer": "ipython3",
   "version": "3.9.18"
  }
 },
 "nbformat": 4,
 "nbformat_minor": 5
}
