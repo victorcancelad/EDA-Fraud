{
 "cells": [
  {
   "cell_type": "markdown",
   "metadata": {},
   "source": [
    "# Generación de Modelos, busqueda de hiperparametros y comparación de los mismos"
   ]
  },
  {
   "cell_type": "markdown",
   "metadata": {},
   "source": [
    "\n",
    "En este cuaderno (notebook), se generarán inicialmente todos los modelos en su forma básica. Posteriormente, tras obtener los resultados de estos modelos, se llevará a cabo una selección de aquellos que demuestren ser más precisos o cuyos resultados sean más pertinentes para el estudio del fraude. Seguidamente, se emprenderá una búsqueda exhaustiva de los mejores hiperparámetros para optimizar el rendimiento de los modelos seleccionados. Finalmente, se procederá a una comparación detallada entre los modelos optimizados, evaluando sus métricas de desempeño.\n",
    "\n",
    "La primera etapa implicará la creación y evaluación de diversos modelos sin ajustes detallados, permitiendo así una exploración inicial de su capacidad predictiva. Una vez obtenidos los resultados, se realizará una cuidadosa selección de los modelos que demuestren ser más efectivos en la detección de fraudes o que proporcionen insights valiosos para el estudio.\n",
    "\n",
    "En la segunda fase, nos sumergiremos en la búsqueda de los hiperparámetros óptimos para los modelos seleccionados. Este proceso implica ajustar los diversos parámetros que controlan el comportamiento de los modelos, con el objetivo de mejorar su capacidad predictiva y adaptarlos de manera específica a las características de los datos relacionados con fraudes.\n",
    "\n",
    "En la última etapa, compararemos exhaustivamente los modelos optimizados, prestando especial atención a métricas clave como precisión, recall, F1-score y el área bajo la curva ROC (ROC-AUC). Este análisis detallado nos permitirá tomar decisiones informadas sobre cuál de los modelos es el más adecuado para nuestro propósito, proporcionando así una base sólida para la conclusión y análisis final del estudio de detección de fraudes."
   ]
  },
  {
   "cell_type": "markdown",
   "metadata": {},
   "source": [
    "### Librerias ###"
   ]
  },
  {
   "cell_type": "code",
   "execution_count": 1,
   "metadata": {},
   "outputs": [
    {
     "name": "stderr",
     "output_type": "stream",
     "text": [
      "c:\\Users\\Victor\\Anaconda3\\envs\\ST\\lib\\site-packages\\scipy\\__init__.py:146: UserWarning: A NumPy version >=1.16.5 and <1.23.0 is required for this version of SciPy (detected version 1.26.2\n",
      "  warnings.warn(f\"A NumPy version >={np_minversion} and <{np_maxversion}\"\n"
     ]
    }
   ],
   "source": [
    "import pandas as pd\n",
    "import numpy as np\n",
    "import seaborn as sns\n",
    "import matplotlib.pyplot as plt\n",
    "import plotly.express as px\n",
    "from imblearn.under_sampling import RandomUnderSampler\n",
    "from collections import Counter\n",
    "from sklearn import metrics\n",
    "from sklearn.ensemble import AdaBoostClassifier, ExtraTreesClassifier, GradientBoostingClassifier, RandomForestClassifier\n",
    "from sklearn.tree import DecisionTreeClassifier\n",
    "from sklearn.feature_selection import VarianceThreshold, chi2, SelectFromModel\n",
    "from sklearn.inspection import PartialDependenceDisplay\n",
    "from sklearn.linear_model import Lasso, LogisticRegression\n",
    "from sklearn.metrics import (ConfusionMatrixDisplay, auc, accuracy_score, classification_report, confusion_matrix,\n",
    "                             f1_score, fbeta_score, make_scorer, precision_recall_curve, precision_score,\n",
    "                             recall_score, roc_auc_score, roc_curve, silhouette_score)\n",
    "from sklearn.model_selection import RandomizedSearchCV, cross_val_score, train_test_split\n",
    "from sklearn.pipeline import Pipeline\n",
    "from sklearn.svm import SVC\n",
    "from xgboost import XGBClassifier\n",
    "from lightgbm import LGBMClassifier\n",
    "import pickle\n",
    "import warnings\n",
    "warnings.filterwarnings(\"ignore\")"
   ]
  },
  {
   "cell_type": "markdown",
   "metadata": {},
   "source": [
    "### Funciones"
   ]
  },
  {
   "cell_type": "code",
   "execution_count": 2,
   "metadata": {},
   "outputs": [],
   "source": [
    "def evaluate_classifiers(X_train, y_train, X_val, y_val):\n",
    "     \n",
    "    \"\"\"\n",
    "    Evalúa varios clasificadores en un conjunto de datos de entrenamiento y validación.\n",
    "\n",
    "    Parámetros:\n",
    "    - X_train: Conjunto de datos de características de entrenamiento.\n",
    "    - y_train: Conjunto de etiquetas de entrenamiento.\n",
    "    - X_val: Conjunto de datos de características de validación.\n",
    "    - y_val: Conjunto de etiquetas de validación.\n",
    "\n",
    "    Retorna:\n",
    "    - results: Un diccionario que contiene información sobre cada clasificador evaluado,\n",
    "               incluyendo el modelo, puntuación ROC AUC, precisión y el informe de clasificación.\n",
    "    \"\"\"\n",
    "    # Definir una lista de clasificadores.\n",
    "    \n",
    "    classifiers = [\n",
    "        DecisionTreeClassifier(),\n",
    "        RandomForestClassifier(),\n",
    "        GradientBoostingClassifier(),\n",
    "        AdaBoostClassifier(),\n",
    "        LGBMClassifier(),\n",
    "        XGBClassifier(),\n",
    "    ]\n",
    "\n",
    "    # Inicializar un diccionario vacío para almacenar los resultados de cada clasificador.\n",
    "    results = {}\n",
    "\n",
    "    # Iterar sobre cada clasificador en la lista.\n",
    "    for classifier in classifiers:\n",
    "        # Crear un pipeline con el clasificador.\n",
    "        pipe = Pipeline(steps=[('classifier', classifier)])\n",
    "        \n",
    "        # Ajustar el pipeline a los datos de entrenamiento.\n",
    "        pipe.fit(X_train, y_train)\n",
    "        \n",
    "        # Usar el pipeline ajustado para hacer predicciones en los datos de validación.\n",
    "        pred = pipe.predict(X_val)\n",
    "\n",
    "        # Si el clasificador tiene un método para predecir probabilidades, usarlo para calcular la puntuación ROC AUC.\n",
    "        if hasattr(classifier, 'predict_proba'):\n",
    "            score = pipe.predict_proba(X_val)[:, 1]\n",
    "            roc_auc = roc_auc_score(y_val, score)\n",
    "        else:\n",
    "            roc_auc = \"N/A\"\n",
    "        \n",
    "        # Calcular la precisión del clasificador.\n",
    "        accuracy = accuracy_score(y_val, pred)\n",
    "        \n",
    "        # Generar un informe de clasificación.\n",
    "        class_report = classification_report(y_val, pred)\n",
    "\n",
    "        # Imprimir el clasificador, la puntuación ROC AUC, la precisión y el informe de clasificación.\n",
    "        print('==========================================================')\n",
    "        print(str(classifier))\n",
    "        print('==========================================================')\n",
    "        print(\"roc_auc: {}\".format(roc_auc))\n",
    "        print(\"accuracy: {}\".format(accuracy))\n",
    "        print(\"classification report:\\n {}\".format(class_report))\n",
    "\n",
    "        # Almacenar los resultados en el diccionario.\n",
    "        results[str(classifier)] = {\n",
    "            'model' : pipe, \n",
    "            'roc_auc': roc_auc,\n",
    "            'accuracy': accuracy,\n",
    "            'class_report': class_report\n",
    "        }\n",
    "    \n",
    "    "
   ]
  },
  {
   "cell_type": "code",
   "execution_count": 3,
   "metadata": {},
   "outputs": [],
   "source": [
    "def evaluate_model(model_name, y_test, pred, pred_proba=None):\n",
    "    \"\"\"\n",
    "    Imprime métricas de evaluación y un informe de clasificación para un modelo dado.\n",
    "\n",
    "    Parámetros:\n",
    "    - model_name: Nombre del modelo.\n",
    "    - y_test: Etiquetas reales del conjunto de prueba.\n",
    "    - pred: Predicciones del modelo.\n",
    "    - pred_proba: Probabilidades de las predicciones (opcional).\n",
    "\n",
    "    No retorna nada; imprime los resultados directamente.\n",
    "    \"\"\"\n",
    "    # Imprimir el nombre del modelo.\n",
    "    print('==========================================================')\n",
    "    print(f'Modelo: {model_name}')\n",
    "    print('==========================================================')\n",
    "\n",
    "    # Si se proporcionan las probabilidades de las predicciones, calcular e imprimir la puntuación ROC-AUC del modelo.\n",
    "    if pred_proba is not None:\n",
    "        roc_auc = roc_auc_score(y_test, pred_proba[:, 1])\n",
    "        print(f'Puntuación ROC-AUC del modelo: {roc_auc:.4f}')\n",
    "\n",
    "    # Calcular e imprimir la precisión del modelo.\n",
    "    accuracy = accuracy_score(y_test, pred)\n",
    "    print(f'Precisión del modelo: {accuracy:.4f}\\n')\n",
    "\n",
    "    # Generar e imprimir un informe de clasificación, que incluye precisión, recall, f1-score, y soporte.\n",
    "    classification_rep = classification_report(y_test, pred)\n",
    "    print('Informe de clasificación:\\n', classification_rep)"
   ]
  },
  {
   "cell_type": "code",
   "execution_count": 4,
   "metadata": {},
   "outputs": [],
   "source": [
    "def plot_evaluation_metrics(y_test, pred, pred_proba):\n",
    "    \"\"\"\n",
    "    Visualiza varias métricas de evaluación de un modelo de clasificación.\n",
    "\n",
    "    Parámetros:\n",
    "    - y_test: Etiquetas reales del conjunto de prueba.\n",
    "    - pred: Predicciones del modelo.\n",
    "    - pred_proba: Probabilidades de las predicciones.\n",
    "\n",
    "    No retorna nada; muestra la visualización directamente.\n",
    "    \"\"\"\n",
    "    # Crear una figura con subfiguras\n",
    "    fig, axes = plt.subplots(nrows=3, ncols=2, figsize=(15, 15))\n",
    "\n",
    "    # 1. Matriz de Confusión\n",
    "    conf_matrix = confusion_matrix(y_test, pred)\n",
    "    accuracy = accuracy_score(y_test, pred)\n",
    "    \n",
    "    disp = ConfusionMatrixDisplay(conf_matrix, display_labels=[0, 1])\n",
    "    disp.plot(cmap='Blues', values_format='d', ax=axes[0, 0])\n",
    "    axes[0, 0].set_title(f'Matriz de Confusión\\nAccuracy: {accuracy:.2f}')\n",
    "\n",
    "    # 2. Matriz de Confusión Normalizada\n",
    "    conf_matrix_normalized = conf_matrix.astype('float') / conf_matrix.sum(axis=1)[:, np.newaxis]\n",
    "    disp_normalized = ConfusionMatrixDisplay(conf_matrix_normalized, display_labels=[0, 1])\n",
    "    disp_normalized.plot(cmap='Blues', values_format='.2f', ax=axes[0, 1])\n",
    "    axes[0, 1].set_title('Matriz de Confusión Normalizada')\n",
    "\n",
    "    # 3. Curva ROC\n",
    "    yhat = pred_proba[:, 1]\n",
    "    fpr, tpr, thresholds = roc_curve(y_test, yhat)\n",
    "    axes[1, 0].plot([0, 1], [0, 1], linestyle='--', label='No Skill')\n",
    "    axes[1, 0].plot(fpr, tpr, marker='.', label='LGBM')\n",
    "    axes[1, 0].set_xlabel('False Positive Rate')\n",
    "    axes[1, 0].set_ylabel('True Positive Rate')\n",
    "    axes[1, 0].legend()\n",
    "    axes[1, 0].set_title('Curva ROC')\n",
    "\n",
    "    # 4. Mejor umbral según G-Mean\n",
    "    gmeans = np.sqrt(tpr * (1 - fpr))\n",
    "    ix = np.argmax(gmeans)\n",
    "    axes[1, 1].plot([0, 1], [0, 1], linestyle='--', label='No Skill')\n",
    "    axes[1, 1].plot(fpr, tpr, marker='.', label=f'LGBM')\n",
    "    axes[1, 1].scatter(fpr[ix], tpr[ix], s=100, marker='o', color='black', label='Best')\n",
    "    axes[1, 1].set_xlabel('False Positive Rate')\n",
    "    axes[1, 1].set_ylabel('True Positive Rate')\n",
    "    axes[1, 1].legend()\n",
    "    axes[1, 1].set_title(f'Mejor Umbral (G-Mean)\\nThreshold: {thresholds[ix]:.3f}, G-Mean: {gmeans[ix]:.3f}')\n",
    "\n",
    "    # 5. Curva de Precisión y Recall\n",
    "    precision, recall, thresholds = precision_recall_curve(y_test, yhat)\n",
    "    axes[2, 0].plot([0, 1], [len(y_test[y_test == 1]) / len(y_test), len(y_test[y_test == 1]) / len(y_test)],\n",
    "                   linestyle='--', label='No Skill')\n",
    "    axes[2, 0].plot(recall, precision, marker='.', label=f'LGBM')\n",
    "    axes[2, 0].set_xlabel('Recall')\n",
    "    axes[2, 0].set_ylabel('Precision')\n",
    "    axes[2, 0].legend()\n",
    "    axes[2, 0].set_title('Curva de Precisión y Recall')\n",
    "\n",
    "    # 6. Mejor umbral según F-Score\n",
    "    fscore = (2 * precision * recall) / (precision + recall)\n",
    "    ix = np.argmax(fscore)\n",
    "    axes[2, 1].plot([0, 1], [len(y_test[y_test == 1]) / len(y_test), len(y_test[y_test == 1]) / len(y_test)],\n",
    "                   linestyle='--', label='No Skill')\n",
    "    axes[2, 1].plot(recall, precision, marker='.', label=f'LGBM')\n",
    "    axes[2, 1].scatter(recall[ix], precision[ix], s=100, marker='o', color='black', label='Best')\n",
    "    axes[2, 1].set_xlabel('Recall')\n",
    "    axes[2, 1].set_ylabel('Precision')\n",
    "    axes[2, 1].legend()\n",
    "    axes[2, 1].set_title(f'Mejor Umbral (F-Score)\\nThreshold: {thresholds[ix]:.3f}, F-Score: {fscore[ix]:.3f}')\n",
    "\n",
    "    # Ajustes de diseño y visualización final\n",
    "    plt.tight_layout()\n",
    "    plt.show()\n"
   ]
  },
  {
   "cell_type": "markdown",
   "metadata": {},
   "source": [
    "### Division de los datos en train, test y validacion"
   ]
  },
  {
   "cell_type": "code",
   "execution_count": 5,
   "metadata": {},
   "outputs": [],
   "source": [
    "X = pd.read_csv(\"../data/X.csv\")\n",
    "y = pd.read_csv(\"../data/y.csv\")"
   ]
  },
  {
   "cell_type": "code",
   "execution_count": 6,
   "metadata": {},
   "outputs": [
    {
     "data": {
      "text/html": [
       "<div>\n",
       "<style scoped>\n",
       "    .dataframe tbody tr th:only-of-type {\n",
       "        vertical-align: middle;\n",
       "    }\n",
       "\n",
       "    .dataframe tbody tr th {\n",
       "        vertical-align: top;\n",
       "    }\n",
       "\n",
       "    .dataframe thead th {\n",
       "        text-align: right;\n",
       "    }\n",
       "</style>\n",
       "<table border=\"1\" class=\"dataframe\">\n",
       "  <thead>\n",
       "    <tr style=\"text-align: right;\">\n",
       "      <th></th>\n",
       "      <th>income</th>\n",
       "      <th>name_email_similarity</th>\n",
       "      <th>prev_address_months_count</th>\n",
       "      <th>current_address_months_count</th>\n",
       "      <th>customer_age</th>\n",
       "      <th>days_since_request</th>\n",
       "      <th>intended_balcon_amount</th>\n",
       "      <th>zip_count_4w</th>\n",
       "      <th>velocity_6h</th>\n",
       "      <th>velocity_24h</th>\n",
       "      <th>...</th>\n",
       "      <th>housing_status_BE</th>\n",
       "      <th>housing_status_BF</th>\n",
       "      <th>housing_status_BG</th>\n",
       "      <th>source_INTERNET</th>\n",
       "      <th>source_TELEAPP</th>\n",
       "      <th>device_os_linux</th>\n",
       "      <th>device_os_macintosh</th>\n",
       "      <th>device_os_other</th>\n",
       "      <th>device_os_windows</th>\n",
       "      <th>device_os_x11</th>\n",
       "    </tr>\n",
       "  </thead>\n",
       "  <tbody>\n",
       "    <tr>\n",
       "      <th>0</th>\n",
       "      <td>0.9</td>\n",
       "      <td>0.166828</td>\n",
       "      <td>60.719967</td>\n",
       "      <td>88.0</td>\n",
       "      <td>50</td>\n",
       "      <td>0.020925</td>\n",
       "      <td>36.582496</td>\n",
       "      <td>769</td>\n",
       "      <td>10650.765523</td>\n",
       "      <td>3134.319630</td>\n",
       "      <td>...</td>\n",
       "      <td>0</td>\n",
       "      <td>0</td>\n",
       "      <td>0</td>\n",
       "      <td>1</td>\n",
       "      <td>0</td>\n",
       "      <td>0</td>\n",
       "      <td>0</td>\n",
       "      <td>0</td>\n",
       "      <td>1</td>\n",
       "      <td>0</td>\n",
       "    </tr>\n",
       "    <tr>\n",
       "      <th>1</th>\n",
       "      <td>0.9</td>\n",
       "      <td>0.296286</td>\n",
       "      <td>60.719967</td>\n",
       "      <td>144.0</td>\n",
       "      <td>50</td>\n",
       "      <td>0.005418</td>\n",
       "      <td>36.582496</td>\n",
       "      <td>366</td>\n",
       "      <td>534.047319</td>\n",
       "      <td>2670.918292</td>\n",
       "      <td>...</td>\n",
       "      <td>0</td>\n",
       "      <td>0</td>\n",
       "      <td>0</td>\n",
       "      <td>1</td>\n",
       "      <td>0</td>\n",
       "      <td>0</td>\n",
       "      <td>0</td>\n",
       "      <td>0</td>\n",
       "      <td>1</td>\n",
       "      <td>0</td>\n",
       "    </tr>\n",
       "    <tr>\n",
       "      <th>2</th>\n",
       "      <td>0.9</td>\n",
       "      <td>0.044985</td>\n",
       "      <td>60.719967</td>\n",
       "      <td>132.0</td>\n",
       "      <td>40</td>\n",
       "      <td>3.108549</td>\n",
       "      <td>36.582496</td>\n",
       "      <td>870</td>\n",
       "      <td>4048.534263</td>\n",
       "      <td>2893.621498</td>\n",
       "      <td>...</td>\n",
       "      <td>0</td>\n",
       "      <td>0</td>\n",
       "      <td>0</td>\n",
       "      <td>1</td>\n",
       "      <td>0</td>\n",
       "      <td>0</td>\n",
       "      <td>0</td>\n",
       "      <td>1</td>\n",
       "      <td>0</td>\n",
       "      <td>0</td>\n",
       "    </tr>\n",
       "    <tr>\n",
       "      <th>3</th>\n",
       "      <td>0.9</td>\n",
       "      <td>0.159511</td>\n",
       "      <td>60.719967</td>\n",
       "      <td>22.0</td>\n",
       "      <td>50</td>\n",
       "      <td>0.019079</td>\n",
       "      <td>36.582496</td>\n",
       "      <td>810</td>\n",
       "      <td>3457.064063</td>\n",
       "      <td>4054.908412</td>\n",
       "      <td>...</td>\n",
       "      <td>0</td>\n",
       "      <td>0</td>\n",
       "      <td>0</td>\n",
       "      <td>1</td>\n",
       "      <td>0</td>\n",
       "      <td>1</td>\n",
       "      <td>0</td>\n",
       "      <td>0</td>\n",
       "      <td>0</td>\n",
       "      <td>0</td>\n",
       "    </tr>\n",
       "    <tr>\n",
       "      <th>4</th>\n",
       "      <td>0.9</td>\n",
       "      <td>0.596414</td>\n",
       "      <td>60.719967</td>\n",
       "      <td>218.0</td>\n",
       "      <td>50</td>\n",
       "      <td>0.004441</td>\n",
       "      <td>36.582496</td>\n",
       "      <td>890</td>\n",
       "      <td>5020.341679</td>\n",
       "      <td>2728.237159</td>\n",
       "      <td>...</td>\n",
       "      <td>0</td>\n",
       "      <td>0</td>\n",
       "      <td>0</td>\n",
       "      <td>1</td>\n",
       "      <td>0</td>\n",
       "      <td>0</td>\n",
       "      <td>1</td>\n",
       "      <td>0</td>\n",
       "      <td>0</td>\n",
       "      <td>0</td>\n",
       "    </tr>\n",
       "  </tbody>\n",
       "</table>\n",
       "<p>5 rows × 51 columns</p>\n",
       "</div>"
      ],
      "text/plain": [
       "   income  name_email_similarity  prev_address_months_count  \\\n",
       "0     0.9               0.166828                  60.719967   \n",
       "1     0.9               0.296286                  60.719967   \n",
       "2     0.9               0.044985                  60.719967   \n",
       "3     0.9               0.159511                  60.719967   \n",
       "4     0.9               0.596414                  60.719967   \n",
       "\n",
       "   current_address_months_count  customer_age  days_since_request  \\\n",
       "0                          88.0            50            0.020925   \n",
       "1                         144.0            50            0.005418   \n",
       "2                         132.0            40            3.108549   \n",
       "3                          22.0            50            0.019079   \n",
       "4                         218.0            50            0.004441   \n",
       "\n",
       "   intended_balcon_amount  zip_count_4w   velocity_6h  velocity_24h  ...  \\\n",
       "0               36.582496           769  10650.765523   3134.319630  ...   \n",
       "1               36.582496           366    534.047319   2670.918292  ...   \n",
       "2               36.582496           870   4048.534263   2893.621498  ...   \n",
       "3               36.582496           810   3457.064063   4054.908412  ...   \n",
       "4               36.582496           890   5020.341679   2728.237159  ...   \n",
       "\n",
       "   housing_status_BE  housing_status_BF  housing_status_BG  source_INTERNET  \\\n",
       "0                  0                  0                  0                1   \n",
       "1                  0                  0                  0                1   \n",
       "2                  0                  0                  0                1   \n",
       "3                  0                  0                  0                1   \n",
       "4                  0                  0                  0                1   \n",
       "\n",
       "   source_TELEAPP  device_os_linux  device_os_macintosh  device_os_other  \\\n",
       "0               0                0                    0                0   \n",
       "1               0                0                    0                0   \n",
       "2               0                0                    0                1   \n",
       "3               0                1                    0                0   \n",
       "4               0                0                    1                0   \n",
       "\n",
       "   device_os_windows  device_os_x11  \n",
       "0                  1              0  \n",
       "1                  1              0  \n",
       "2                  0              0  \n",
       "3                  0              0  \n",
       "4                  0              0  \n",
       "\n",
       "[5 rows x 51 columns]"
      ]
     },
     "execution_count": 6,
     "metadata": {},
     "output_type": "execute_result"
    }
   ],
   "source": [
    "X.head()"
   ]
  },
  {
   "cell_type": "code",
   "execution_count": 7,
   "metadata": {},
   "outputs": [
    {
     "data": {
      "text/html": [
       "<div>\n",
       "<style scoped>\n",
       "    .dataframe tbody tr th:only-of-type {\n",
       "        vertical-align: middle;\n",
       "    }\n",
       "\n",
       "    .dataframe tbody tr th {\n",
       "        vertical-align: top;\n",
       "    }\n",
       "\n",
       "    .dataframe thead th {\n",
       "        text-align: right;\n",
       "    }\n",
       "</style>\n",
       "<table border=\"1\" class=\"dataframe\">\n",
       "  <thead>\n",
       "    <tr style=\"text-align: right;\">\n",
       "      <th></th>\n",
       "      <th>fraud_bool</th>\n",
       "    </tr>\n",
       "  </thead>\n",
       "  <tbody>\n",
       "    <tr>\n",
       "      <th>0</th>\n",
       "      <td>1</td>\n",
       "    </tr>\n",
       "    <tr>\n",
       "      <th>1</th>\n",
       "      <td>1</td>\n",
       "    </tr>\n",
       "    <tr>\n",
       "      <th>2</th>\n",
       "      <td>1</td>\n",
       "    </tr>\n",
       "    <tr>\n",
       "      <th>3</th>\n",
       "      <td>1</td>\n",
       "    </tr>\n",
       "    <tr>\n",
       "      <th>4</th>\n",
       "      <td>1</td>\n",
       "    </tr>\n",
       "  </tbody>\n",
       "</table>\n",
       "</div>"
      ],
      "text/plain": [
       "   fraud_bool\n",
       "0           1\n",
       "1           1\n",
       "2           1\n",
       "3           1\n",
       "4           1"
      ]
     },
     "execution_count": 7,
     "metadata": {},
     "output_type": "execute_result"
    }
   ],
   "source": [
    "y.head()"
   ]
  },
  {
   "cell_type": "code",
   "execution_count": 8,
   "metadata": {},
   "outputs": [],
   "source": [
    "# Separo en train_0 y test\n",
    "X_train_0, X_test, y_train_0, y_test = train_test_split(X, y, test_size=0.2, random_state=12)\n"
   ]
  },
  {
   "cell_type": "code",
   "execution_count": 9,
   "metadata": {},
   "outputs": [
    {
     "name": "stdout",
     "output_type": "stream",
     "text": [
      "Proporción de clases en y_train: Counter({'fraud_bool': 1})\n"
     ]
    }
   ],
   "source": [
    "# Separo en train_1 y val\n",
    "X_train_1, X_val, y_train_1, y_val = train_test_split(X_train_0, y_train_0, test_size=0.2, random_state=12)\n",
    "\n",
    "print('Proporción de clases en y_train:', Counter(y_train_1))\n"
   ]
  },
  {
   "cell_type": "markdown",
   "metadata": {},
   "source": [
    "### Undersampling de la muestra"
   ]
  },
  {
   "cell_type": "code",
   "execution_count": 10,
   "metadata": {},
   "outputs": [
    {
     "name": "stdout",
     "output_type": "stream",
     "text": [
      "Undersampled dataset shape Counter({'fraud_bool': 1})\n"
     ]
    }
   ],
   "source": [
    "# Crear el objeto RandomUnderSampler con la proporción deseada, en este caso la de 0.1, es decir, 10% de la clase minoritaria\n",
    "under_sampler = RandomUnderSampler(sampling_strategy=0.1, random_state=12)\n",
    "\n",
    "# Aplicar el método de remuestreo\n",
    "X_train_1, y_train_1 = under_sampler.fit_resample(X_train_1, y_train_1)\n",
    "\n",
    "# Verificar la proporción después del undersampling\n",
    "print('Undersampled dataset shape %s' % Counter(y_train_1))\n"
   ]
  },
  {
   "cell_type": "markdown",
   "metadata": {},
   "source": [
    "Aplicamos un undersampling, en este caso la de 0.1, es decir, 10% de la clase minoritaria. \n",
    "\n",
    "Esto quiere decir que haya una proporción de 90% no fraude y un 10% de fraude en el Train_1 que utilizaremos para los modelos en bruto y que compararemos con la validación."
   ]
  },
  {
   "cell_type": "code",
   "execution_count": 11,
   "metadata": {},
   "outputs": [
    {
     "name": "stdout",
     "output_type": "stream",
     "text": [
      "Undersampled dataset shape Counter({'fraud_bool': 1})\n"
     ]
    }
   ],
   "source": [
    "# Aplicar undersampling a tus datos\n",
    "X_train_2, y_train_2 = under_sampler.fit_resample(X_train_0, y_train_0)\n",
    "\n",
    "# Verificar la proporción después del undersampling\n",
    "print('Undersampled dataset shape %s' % Counter(y_train_2))\n"
   ]
  },
  {
   "cell_type": "markdown",
   "metadata": {},
   "source": [
    "Aplicamos un undersampling, en este caso la de 0.1, es decir, 10% de la clase minoritaria. \n",
    "\n",
    "Esto quiere decir que haya una proporción de 90% no fraude y un 10% de fraude en el Train_2 que utilizaremos para los modelos con hiperparametros y que compararemos con el test."
   ]
  },
  {
   "cell_type": "markdown",
   "metadata": {},
   "source": [
    "## 1º Etapa:\n",
    "### Creación y evaluación de los modelos sin ajustes \n",
    "\n",
    "\n",
    "En la primera etapa de nuestro análisis, exploraremos y evaluaremos un conjunto diverso de modelos de clasificación. Estos modelos incluirán:\n",
    "\n",
    "- DecisionTreeClassifier()\n",
    "- RandomForestClassifier()\n",
    "- GradientBoostingClassifier()\n",
    "- AdaBoostClassifier()\n",
    "- LGBMClassifier()\n",
    "- XGBClassifier()\n",
    "\n",
    "Cada uno de estos modelos se implementará en su forma básica, sin ajustes detallados de hiperparámetros. Este enfoque nos permitirá obtener una visión inicial de la capacidad predictiva de cada modelo en relación con el problema de detección de fraudes.\n",
    "\n",
    "Durante esta fase, se llevará a cabo el siguiente proceso para cada modelo:\n",
    "\n",
    "Creación del Modelo: Se instanciará cada clasificador correspondiente.\n",
    "Entrenamiento del Modelo: Se utilizarán los datos de entrenamiento para ajustar cada modelo a los patrones presentes en los datos.\n",
    "Predicciones en el Conjunto de Validación: Se utilizará el modelo entrenado para realizar predicciones en un conjunto de datos de validación separado.\n",
    "Evaluación de Desempeño: Se calcularán y analizarán diversas métricas de evaluación, como la precisión, recall, F1-score y el área bajo la curva ROC (ROC-AUC). Estas métricas proporcionarán información valiosa sobre la capacidad de cada modelo para detectar fraudes y su rendimiento general.\n",
    "Una vez completada esta fase inicial, estaremos en una posición adecuada para seleccionar los modelos que muestren un desempeño prometedor. Estos modelos seleccionados serán la base sobre la cual realizaremos ajustes más detallados en la siguiente etapa del análisis. Este enfoque iterativo nos permitirá construir gradualmente modelos más refinados y adaptados a la naturaleza específica del problema de detección de fraudes."
   ]
  },
  {
   "cell_type": "code",
   "execution_count": 12,
   "metadata": {},
   "outputs": [
    {
     "name": "stdout",
     "output_type": "stream",
     "text": [
      "==========================================================\n",
      "DecisionTreeClassifier()\n",
      "==========================================================\n",
      "roc_auc: 0.6411765645993103\n",
      "accuracy: 0.9180375\n",
      "classification report:\n",
      "               precision    recall  f1-score   support\n",
      "\n",
      "           0       0.99      0.92      0.96    158198\n",
      "           1       0.05      0.36      0.09      1802\n",
      "\n",
      "    accuracy                           0.92    160000\n",
      "   macro avg       0.52      0.64      0.52    160000\n",
      "weighted avg       0.98      0.92      0.95    160000\n",
      "\n",
      "==========================================================\n",
      "RandomForestClassifier()\n",
      "==========================================================\n",
      "roc_auc: 0.8761011731193039\n",
      "accuracy: 0.9835125\n",
      "classification report:\n",
      "               precision    recall  f1-score   support\n",
      "\n",
      "           0       0.99      0.99      0.99    158198\n",
      "           1       0.24      0.21      0.22      1802\n",
      "\n",
      "    accuracy                           0.98    160000\n",
      "   macro avg       0.61      0.60      0.61    160000\n",
      "weighted avg       0.98      0.98      0.98    160000\n",
      "\n",
      "==========================================================\n",
      "GradientBoostingClassifier()\n",
      "==========================================================\n",
      "roc_auc: 0.8967798421565276\n",
      "accuracy: 0.9792\n",
      "classification report:\n",
      "               precision    recall  f1-score   support\n",
      "\n",
      "           0       0.99      0.99      0.99    158198\n",
      "           1       0.20      0.29      0.24      1802\n",
      "\n",
      "    accuracy                           0.98    160000\n",
      "   macro avg       0.60      0.64      0.61    160000\n",
      "weighted avg       0.98      0.98      0.98    160000\n",
      "\n",
      "==========================================================\n",
      "AdaBoostClassifier()\n",
      "==========================================================\n",
      "roc_auc: 0.8982033732885547\n",
      "accuracy: 0.9745625\n",
      "classification report:\n",
      "               precision    recall  f1-score   support\n",
      "\n",
      "           0       0.99      0.98      0.99    158198\n",
      "           1       0.18      0.36      0.24      1802\n",
      "\n",
      "    accuracy                           0.97    160000\n",
      "   macro avg       0.59      0.67      0.61    160000\n",
      "weighted avg       0.98      0.97      0.98    160000\n",
      "\n",
      "[LightGBM] [Info] Number of positive: 7092, number of negative: 70920\n",
      "[LightGBM] [Info] Auto-choosing row-wise multi-threading, the overhead of testing was 0.005087 seconds.\n",
      "You can set `force_row_wise=true` to remove the overhead.\n",
      "And if memory is not enough, you can set `force_col_wise=true`.\n",
      "[LightGBM] [Info] Total Bins 3235\n",
      "[LightGBM] [Info] Number of data points in the train set: 78012, number of used features: 50\n",
      "[LightGBM] [Info] [binary:BoostFromScore]: pavg=0.090909 -> initscore=-2.302585\n",
      "[LightGBM] [Info] Start training from score -2.302585\n",
      "==========================================================\n",
      "LGBMClassifier()\n",
      "==========================================================\n",
      "roc_auc: 0.9008897643112884\n",
      "accuracy: 0.9764625\n",
      "classification report:\n",
      "               precision    recall  f1-score   support\n",
      "\n",
      "           0       0.99      0.98      0.99    158198\n",
      "           1       0.19      0.34      0.24      1802\n",
      "\n",
      "    accuracy                           0.98    160000\n",
      "   macro avg       0.59      0.66      0.62    160000\n",
      "weighted avg       0.98      0.98      0.98    160000\n",
      "\n",
      "==========================================================\n",
      "XGBClassifier(base_score=None, booster=None, callbacks=None,\n",
      "              colsample_bylevel=None, colsample_bynode=None,\n",
      "              colsample_bytree=None, device=None, early_stopping_rounds=None,\n",
      "              enable_categorical=False, eval_metric=None, feature_types=None,\n",
      "              gamma=None, grow_policy=None, importance_type=None,\n",
      "              interaction_constraints=None, learning_rate=None, max_bin=None,\n",
      "              max_cat_threshold=None, max_cat_to_onehot=None,\n",
      "              max_delta_step=None, max_depth=None, max_leaves=None,\n",
      "              min_child_weight=None, missing=nan, monotone_constraints=None,\n",
      "              multi_strategy=None, n_estimators=None, n_jobs=None,\n",
      "              num_parallel_tree=None, random_state=None, ...)\n",
      "==========================================================\n",
      "roc_auc: 0.8932561334263546\n",
      "accuracy: 0.97306875\n",
      "classification report:\n",
      "               precision    recall  f1-score   support\n",
      "\n",
      "           0       0.99      0.98      0.99    158198\n",
      "           1       0.17      0.36      0.23      1802\n",
      "\n",
      "    accuracy                           0.97    160000\n",
      "   macro avg       0.58      0.67      0.61    160000\n",
      "weighted avg       0.98      0.97      0.98    160000\n",
      "\n"
     ]
    }
   ],
   "source": [
    "evaluate_classifiers(X_train_1, y_train_1, X_val, y_val)"
   ]
  },
  {
   "cell_type": "markdown",
   "metadata": {},
   "source": [
    "Tras completar la primera etapa de nuestro análisis, hemos evaluado diversos modelos de clasificación, entre los cuales los más destacados por su desempeño prometedor han sido el GradientBoostingClassifier, AdaBoostClassifier, LGBMClassifier, y XGBClassifier. Estos modelos han demostrado una capacidad considerable para predecir y detectar fraudes en nuestro conjunto de datos de validación.\n",
    "\n",
    "Basándonos en las métricas de evaluación, que incluyen precisión, recall, F1-score y el área bajo la curva ROC (ROC-AUC), hemos identificado que estos clasificadores muestran resultados alentadores y prometedores para el propósito de nuestro estudio de detección de fraudes.\n",
    "\n",
    "Ahora, avanzaremos a la segunda etapa del análisis, donde nos enfocaremos en la búsqueda de los mejores hiperparámetros para optimizar aún más el rendimiento de estos modelos seleccionados. Este paso crucial nos permitirá ajustar cada modelo de manera más específica a las características de nuestro conjunto de datos y mejorar su capacidad predictiva. Continuaremos con un enfoque metódico y riguroso para garantizar la obtención de resultados óptimos en la detección de fraudes."
   ]
  },
  {
   "cell_type": "markdown",
   "metadata": {},
   "source": [
    "## 2º Etapa:\n",
    "### Optimización de Hiperparámetros y Selección del Modelo\n",
    "Después de seleccionar los modelos en la primera etapa, que incluyeron GradientBoostingClassifier, AdaBoostClassifier, LGBMClassifier, y XGBClassifier, nos sumergiremos en la búsqueda de los hiperparámetros óptimos para cada uno de ellos. Este paso es crucial para afinar el rendimiento de los modelos y obtener resultados más precisos en la detección de fraudes.\n"
   ]
  },
  {
   "cell_type": "markdown",
   "metadata": {},
   "source": [
    "#### Optimización de Hiperparámetros\n",
    "\n",
    "Iniciaremos creando pipelines para cada modelo y emplearemos técnicas de búsqueda aleatoria, en este caso, RandomizedSearchCV, para explorar diferentes combinaciones de hiperparámetros. Este proceso permitirá encontrar la configuración óptima que maximiza el rendimiento de cada modelo. Para cada modelo hay un notebook en el que se realiza todos estos pasos, en el caso del XGBClassifier ponemos su ejemplo a continuación:\n"
   ]
  },
  {
   "cell_type": "code",
   "execution_count": 13,
   "metadata": {},
   "outputs": [],
   "source": [
    "# Creamos el pipeline\n",
    "xgb_model = Pipeline([\n",
    "    ('classifier', GradientBoostingClassifier(random_state=12))\n",
    "])"
   ]
  },
  {
   "cell_type": "code",
   "execution_count": 14,
   "metadata": {},
   "outputs": [],
   "source": [
    "# Introducimos los parámetros a probar\n",
    "xgb_params = {\n",
    "    'classifier__max_depth': [2, 4, 6, 8, 10],\n",
    "    'classifier__learning_rate': [0.05, 0.1, 0.15, 0.20],\n",
    "    'classifier__n_estimators': [20, 40, 60, 80, 100],\n",
    "    'classifier__min_samples_split': [2, 3, 4],\n",
    "    'classifier__min_samples_leaf': [1, 2, 3, 4],\n",
    "    'classifier__subsample': [0.6, 0.8, 1.0]\n",
    "}\n",
    "\n",
    "# Definimos la búsqueda aleatoria\n",
    "CV= RandomizedSearchCV(estimator=xgb_model, param_distributions=xgb_params, cv=3, n_jobs=-1, verbose=2)\n",
    "\n",
    "                                      "
   ]
  },
  {
   "cell_type": "code",
   "execution_count": 15,
   "metadata": {},
   "outputs": [
    {
     "name": "stdout",
     "output_type": "stream",
     "text": [
      "Fitting 3 folds for each of 10 candidates, totalling 30 fits\n"
     ]
    }
   ],
   "source": [
    "# Ajustamos el modelo\n",
    "XGB_model = CV.fit(X_train_2, y_train_2)\n"
   ]
  },
  {
   "cell_type": "code",
   "execution_count": 16,
   "metadata": {},
   "outputs": [],
   "source": [
    "#Guardamos el modelo como pickle, para de esta manera poder comparar los resultados con otros modelos\n",
    "\n",
    "#with open('../models/xgb_model_02.pkl', 'wb') as file:\n",
    "#    pickle.dump(XGB_model, file)"
   ]
  },
  {
   "cell_type": "markdown",
   "metadata": {},
   "source": [
    "Repetiremos este proceso para cada modelo seleccionado en diferentes nootebooks.\n",
    "\n"
   ]
  },
  {
   "cell_type": "markdown",
   "metadata": {},
   "source": [
    "#### Carga de los modelos entrenados con hiperparametros con pickel"
   ]
  },
  {
   "cell_type": "code",
   "execution_count": 17,
   "metadata": {},
   "outputs": [],
   "source": [
    "# Cargamos el modelo XGB\n",
    "with open('../models/xgb_model_02.pkl', 'rb') as file:\n",
    "    XGB_model = pickle.load(file)\n",
    "\n",
    "# Mejores parámetros que se utilizarán para la explicabilidad del modelo\n",
    "modelo_XGB_best_estim = XGB_model.best_estimator_\n",
    "\n",
    "# Guardamos el modelo como pickle para ejecutarlo en otro notebook\n",
    "pickle.dump(modelo_XGB_best_estim, open('../models/modelo_XGB_best_estim.pkl', 'wb'))\n",
    "\n",
    "# Prediccion con el modelo\n",
    "pred_xgb = XGB_model.best_estimator_.predict(X_test)\n",
    "\n",
    "# Prediccion de probabilidades con el modelo\n",
    "pred_proba_xgb = XGB_model.best_estimator_.predict_proba(X_test)"
   ]
  },
  {
   "cell_type": "code",
   "execution_count": 18,
   "metadata": {},
   "outputs": [
    {
     "name": "stdout",
     "output_type": "stream",
     "text": [
      "[LightGBM] [Warning] Accuracy may be bad since you didn't explicitly set num_leaves OR 2^max_depth > num_leaves. (num_leaves=31).\n",
      "[LightGBM] [Warning] Accuracy may be bad since you didn't explicitly set num_leaves OR 2^max_depth > num_leaves. (num_leaves=31).\n"
     ]
    }
   ],
   "source": [
    "# Cargamos el modelo LGBM\n",
    "with open('../models/LGBM_model_02.pkl', 'rb') as file:\n",
    "    LGBM_model = pickle.load(file)\n",
    "\n",
    "# Prediccion con el modelo\n",
    "pred_lgbm = LGBM_model.best_estimator_.predict(X_test)\n",
    "\n",
    "# Prediccion de probabilidades con el modelo\n",
    "pred_proba_lgbm = LGBM_model.best_estimator_.predict_proba(X_test)"
   ]
  },
  {
   "cell_type": "code",
   "execution_count": 19,
   "metadata": {},
   "outputs": [],
   "source": [
    "# Cargamos el modelo ADA\n",
    "with open('../models/ADA_model_01.pkl', 'rb') as file:\n",
    "    ADA_model = pickle.load(file)\n",
    "\n",
    "# Prediccion con el modelo\n",
    "pred_ada = ADA_model.best_estimator_.predict(X_test)\n",
    "\n",
    "# Prediccion de probabilidades con el modelo\n",
    "pred_proba_ada = ADA_model.best_estimator_.predict_proba(X_test)"
   ]
  },
  {
   "cell_type": "code",
   "execution_count": 20,
   "metadata": {},
   "outputs": [],
   "source": [
    "# Cargamos el modelo GB\n",
    "with open('../models/GB_model_01.pkl', 'rb') as file:\n",
    "    GB_model = pickle.load(file)\n",
    "\n",
    "# Prediccion con el modelo\n",
    "pred_gb = GB_model.best_estimator_.predict(X_test)\n",
    "\n",
    "# Prediccion de probabilidades con el modelo\n",
    "pred_proba_gb = GB_model.best_estimator_.predict_proba(X_test)"
   ]
  },
  {
   "cell_type": "markdown",
   "metadata": {},
   "source": [
    "### Evaluación y Comparación de Modelos\n",
    "Después de obtener los modelos optimizados, realizaremos predicciones en el conjunto de prueba y evaluaremos su desempeño utilizando diversas métricas. Posteriormente, compararemos los resultados de cada modelo, prestando especial atención a métricas clave como F1-score, recall y precisión."
   ]
  },
  {
   "cell_type": "code",
   "execution_count": 21,
   "metadata": {},
   "outputs": [
    {
     "name": "stdout",
     "output_type": "stream",
     "text": [
      "==========================================================\n",
      "Modelo: LGBMClassifier\n",
      "==========================================================\n",
      "Puntuación ROC-AUC del modelo: 0.8967\n",
      "Precisión del modelo: 0.9761\n",
      "\n",
      "Informe de clasificación:\n",
      "               precision    recall  f1-score   support\n",
      "\n",
      "           0       0.99      0.98      0.99    197865\n",
      "           1       0.18      0.35      0.24      2135\n",
      "\n",
      "    accuracy                           0.98    200000\n",
      "   macro avg       0.59      0.67      0.61    200000\n",
      "weighted avg       0.98      0.98      0.98    200000\n",
      "\n"
     ]
    }
   ],
   "source": [
    "# Evaluamos el modelo LGMB\n",
    "\n",
    "model_name = \"LGBMClassifier\"\n",
    "\n",
    "evaluate_model(model_name,y_test, pred_lgbm,pred_proba_lgbm)\n"
   ]
  },
  {
   "cell_type": "code",
   "execution_count": 22,
   "metadata": {},
   "outputs": [
    {
     "name": "stdout",
     "output_type": "stream",
     "text": [
      "==========================================================\n",
      "Modelo: ADABoostClassifier\n",
      "==========================================================\n",
      "Puntuación ROC-AUC del modelo: 0.8888\n",
      "Precisión del modelo: 0.9804\n",
      "\n",
      "Informe de clasificación:\n",
      "               precision    recall  f1-score   support\n",
      "\n",
      "           0       0.99      0.99      0.99    197865\n",
      "           1       0.20      0.27      0.23      2135\n",
      "\n",
      "    accuracy                           0.98    200000\n",
      "   macro avg       0.59      0.63      0.61    200000\n",
      "weighted avg       0.98      0.98      0.98    200000\n",
      "\n"
     ]
    }
   ],
   "source": [
    "# Evaluamos el modelo ADA\n",
    "\n",
    "model_name = \"ADABoostClassifier\"\n",
    "\n",
    "evaluate_model(model_name,y_test, pred_ada,pred_proba_ada)\n"
   ]
  },
  {
   "cell_type": "code",
   "execution_count": 23,
   "metadata": {},
   "outputs": [
    {
     "name": "stdout",
     "output_type": "stream",
     "text": [
      "==========================================================\n",
      "Modelo: XGBoostClassifier\n",
      "==========================================================\n",
      "Puntuación ROC-AUC del modelo: 0.9124\n",
      "Precisión del modelo: 0.9807\n",
      "\n",
      "Informe de clasificación:\n",
      "               precision    recall  f1-score   support\n",
      "\n",
      "           0       0.99      0.99      0.99    197865\n",
      "           1       0.23      0.33      0.27      2135\n",
      "\n",
      "    accuracy                           0.98    200000\n",
      "   macro avg       0.61      0.66      0.63    200000\n",
      "weighted avg       0.98      0.98      0.98    200000\n",
      "\n"
     ]
    }
   ],
   "source": [
    "# Evaluamos el modelo XGB\n",
    "\n",
    "model_name = \"XGBoostClassifier\"\n",
    "\n",
    "evaluate_model(model_name,y_test, pred_xgb,pred_proba_xgb)\n"
   ]
  },
  {
   "cell_type": "code",
   "execution_count": 24,
   "metadata": {},
   "outputs": [
    {
     "name": "stdout",
     "output_type": "stream",
     "text": [
      "==========================================================\n",
      "Modelo: GBClassifier\n",
      "==========================================================\n",
      "Puntuación ROC-AUC del modelo: 0.8953\n",
      "Precisión del modelo: 0.9778\n",
      "\n",
      "Informe de clasificación:\n",
      "               precision    recall  f1-score   support\n",
      "\n",
      "           0       0.99      0.98      0.99    197865\n",
      "           1       0.19      0.32      0.24      2135\n",
      "\n",
      "    accuracy                           0.98    200000\n",
      "   macro avg       0.59      0.65      0.61    200000\n",
      "weighted avg       0.98      0.98      0.98    200000\n",
      "\n"
     ]
    }
   ],
   "source": [
    "# Evaluamos el modelo GB\n",
    "\n",
    "model_name = \"GBClassifier\"\n",
    "\n",
    "evaluate_model(model_name,y_test, pred_gb,pred_proba_gb)"
   ]
  },
  {
   "cell_type": "markdown",
   "metadata": {},
   "source": [
    "Después de una exhaustiva comparación uno a uno de todos los modelos evaluados, destacamos los siguientes resultados clave:\n",
    "\n",
    "- El mejor F1-score se logra con el modelo XGBoost, alcanzando un total de 0,27.\n",
    "\n",
    "- A pesar de ello, el modelo LGBM exhibe el recall más alto, con un total de 0,35, superando al modelo XGBoost por una pequeña diferencia de 0,02.\n",
    "\n",
    "Aunque reconocemos esta diferencia en el recall, consideramos que es insignificante en el contexto de la capacidad general de ambos modelos para predecir fraudes en el conjunto de prueba. Ambos modelos han demostrado una habilidad casi igual en esta tarea.\n",
    "\n",
    "Dada la ligera ventaja en el F1-score y el cómputo general de sus resultados, hemos tomado la decisión de seleccionar el modelo **XGBoost** como la opción preferida. Este modelo será la base para la visualización de métricas y la explicabilidad, proporcionando una sólida base para futuros análisis y toma de decisiones."
   ]
  },
  {
   "cell_type": "markdown",
   "metadata": {},
   "source": [
    "## 3º Etapa:\n",
    "### Visualización Detallada de Métricas de Evaluación para el modelo seleccionado (XGBoost)\n",
    "Esta visualización nos permitirá evaluar el rendimiento del modelo XGBoost desde diversas perspectivas, facilitando la interpretación de su capacidad para detectar fraudes de manera efectiva."
   ]
  },
  {
   "cell_type": "code",
   "execution_count": 25,
   "metadata": {},
   "outputs": [
    {
     "data": {
      "image/png": "[encoded data removed]",
      "text/plain": [
       "<Figure size 1500x1500 with 8 Axes>"
      ]
     },
     "metadata": {},
     "output_type": "display_data"
    }
   ],
   "source": [
    "plot_evaluation_metrics(y_test, pred_xgb, pred_proba_xgb)"
   ]
  },
  {
   "cell_type": "markdown",
   "metadata": {},
   "source": [
    "-Matriz de Confusión:  presenta una alta accuracy del 98%, indicando un buen rendimiento general del modelo. No obstante, es crucial analizar los detalles de la matriz. Se registraron 2,429 Falsos Positivos, donde el modelo predijo incorrectamente la ausencia de fraude. Además, se observaron 1,428 Falsos Negativos, representando casos en los que el modelo no logró predecir fraudes reales. Esta información revela que, a pesar de la alta precisión general, hay áreas específicas de mejora en la capacidad de detección de fraudes.\n",
    "\n",
    "-Matriz de Confusión Normalizada: proporciona una visión más equilibrada de las tasas de error para cada clase. En particular, muestra que el modelo tiene un buen rendimiento para predecir la clase 0 (no fraude), pero tiene más dificultades para predecir correctamente la clase 1 (fraude). Este énfasis en los errores específicos ayuda a comprender mejor las áreas de mejora del modelo.\n",
    "\n",
    "-Curva ROC: la curva ROC muestra la relación entre la tasa de verdaderos positivos (sensibilidad) y la tasa de falsos positivos (1 - especificidad) para diferentes umbrales de clasificación. El modelo presenta un punto de operación equilibrado, con una tasa de verdaderos positivos del 80% y una tasa de falsos positivos del 20%. Esto indica que el modelo tiene una buena capacidad para distinguir entre las clases positiva y negativa.\n",
    "\n",
    "-Mejor Umbral (G-Mean): el umbral óptimo es 0.097, con un G-Mean asociado de 0.834. Este umbral proporciona un equilibrio eficiente entre la sensibilidad y la especificidad del modelo, maximizando la capacidad para identificar transacciones fraudulentas y minimizando los falsos positivos. La optimización del G-Mean refuerza la robustez del modelo en la gestión de ambas clases.\n",
    "\n",
    "-Curva de Precisión y Recall: indica que el modelo tiene un buen rendimiento para identificar instancias positivas. A medida que aumenta el umbral para clasificar algo como positivo, la precisión mejora a expensas de un menor recall. Encontrar el equilibrio óptimo es crucial para adaptar el modelo a los objetivos específicos.\n",
    "\n",
    "-Mejor Umbral (F-Score): el punto “best” en esta curva representa un compromiso entre precisión y recall. El umbral de 0.545 es la configuración que maximiza el F-Score, indicando un rendimiento equilibrado del modelo en términos de clasificación positiva y captura de casos positivos. Esta métrica ofrece una perspectiva integral del rendimiento del modelo en la detección de fraudes."
   ]
  }
 ],
 "metadata": {
  "kernelspec": {
   "display_name": "ST",
   "language": "python",
   "name": "python3"
  },
  "language_info": {
   "codemirror_mode": {
    "name": "ipython",
    "version": 3
   },
   "file_extension": ".py",
   "mimetype": "text/x-python",
   "name": "python",
   "nbconvert_exporter": "python",
   "pygments_lexer": "ipython3",
   "version": "3.10.13"
  }
 },
 "nbformat": 4,
 "nbformat_minor": 2
}
