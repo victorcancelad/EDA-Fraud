{
 "cells": [
  {
   "cell_type": "markdown",
   "metadata": {},
   "source": [
    "# Modelo ADA con hiperparametros\n",
    " "
   ]
  },
  {
   "cell_type": "markdown",
   "metadata": {},
   "source": [
    "### Libraires ###"
   ]
  },
  {
   "cell_type": "code",
   "execution_count": 1,
   "metadata": {},
   "outputs": [
    {
     "name": "stderr",
     "output_type": "stream",
     "text": [
      "c:\\Users\\Victor\\Anaconda3\\envs\\ST\\lib\\site-packages\\scipy\\__init__.py:146: UserWarning: A NumPy version >=1.16.5 and <1.23.0 is required for this version of SciPy (detected version 1.26.2\n",
      "  warnings.warn(f\"A NumPy version >={np_minversion} and <{np_maxversion}\"\n"
     ]
    }
   ],
   "source": [
    "import pandas as pd\n",
    "import numpy as np\n",
    "from matplotlib import pyplot as plt\n",
    "from collections import Counter\n",
    "from sklearn.model_selection import train_test_split\n",
    "import pandas as pd\n",
    "import matplotlib.pyplot as plt\n",
    "import pickle\n",
    "from sklearn import metrics\n",
    "from sklearn.metrics import roc_auc_score, accuracy_score, classification_report\n",
    "from sklearn.pipeline import Pipeline\n",
    "import warnings\n",
    "warnings.filterwarnings('ignore')\n",
    "import numpy as np\n",
    "from imblearn.under_sampling import RandomUnderSampler\n",
    "from sklearn.tree import DecisionTreeClassifier\n",
    "from sklearn.ensemble import AdaBoostClassifier\n",
    "from sklearn.model_selection import RandomizedSearchCV\n",
    "\n",
    "\n"
   ]
  },
  {
   "cell_type": "markdown",
   "metadata": {},
   "source": [
    "### Funciones"
   ]
  },
  {
   "cell_type": "code",
   "execution_count": 2,
   "metadata": {},
   "outputs": [],
   "source": [
    "def evaluate_model(y_test, pred, pred_proba = None):\n",
    "    if pred_proba is not None:\n",
    "        print('ROC-AUC score of the model: {}'.format(roc_auc_score(y_test, pred_proba[:, 1])))\n",
    "    print('Accuracy of the model: {}\\n'.format(accuracy_score(y_test, pred)))\n",
    "    print('Classification report: \\n{}\\n'.format(classification_report(y_test, pred)))"
   ]
  },
  {
   "cell_type": "markdown",
   "metadata": {},
   "source": [
    "### Division de los datos en train, test y validacion"
   ]
  },
  {
   "cell_type": "code",
   "execution_count": 3,
   "metadata": {},
   "outputs": [
    {
     "data": {
      "text/html": [
       "<div>\n",
       "<style scoped>\n",
       "    .dataframe tbody tr th:only-of-type {\n",
       "        vertical-align: middle;\n",
       "    }\n",
       "\n",
       "    .dataframe tbody tr th {\n",
       "        vertical-align: top;\n",
       "    }\n",
       "\n",
       "    .dataframe thead th {\n",
       "        text-align: right;\n",
       "    }\n",
       "</style>\n",
       "<table border=\"1\" class=\"dataframe\">\n",
       "  <thead>\n",
       "    <tr style=\"text-align: right;\">\n",
       "      <th></th>\n",
       "      <th>fraud_bool</th>\n",
       "      <th>income</th>\n",
       "      <th>name_email_similarity</th>\n",
       "      <th>prev_address_months_count</th>\n",
       "      <th>current_address_months_count</th>\n",
       "      <th>customer_age</th>\n",
       "      <th>days_since_request</th>\n",
       "      <th>intended_balcon_amount</th>\n",
       "      <th>zip_count_4w</th>\n",
       "      <th>velocity_6h</th>\n",
       "      <th>...</th>\n",
       "      <th>housing_status_BE</th>\n",
       "      <th>housing_status_BF</th>\n",
       "      <th>housing_status_BG</th>\n",
       "      <th>source_INTERNET</th>\n",
       "      <th>source_TELEAPP</th>\n",
       "      <th>device_os_linux</th>\n",
       "      <th>device_os_macintosh</th>\n",
       "      <th>device_os_other</th>\n",
       "      <th>device_os_windows</th>\n",
       "      <th>device_os_x11</th>\n",
       "    </tr>\n",
       "  </thead>\n",
       "  <tbody>\n",
       "    <tr>\n",
       "      <th>0</th>\n",
       "      <td>1</td>\n",
       "      <td>0.9</td>\n",
       "      <td>0.166828</td>\n",
       "      <td>NaN</td>\n",
       "      <td>88.0</td>\n",
       "      <td>50</td>\n",
       "      <td>0.020925</td>\n",
       "      <td>NaN</td>\n",
       "      <td>769</td>\n",
       "      <td>10650.765523</td>\n",
       "      <td>...</td>\n",
       "      <td>0</td>\n",
       "      <td>0</td>\n",
       "      <td>0</td>\n",
       "      <td>1</td>\n",
       "      <td>0</td>\n",
       "      <td>0</td>\n",
       "      <td>0</td>\n",
       "      <td>0</td>\n",
       "      <td>1</td>\n",
       "      <td>0</td>\n",
       "    </tr>\n",
       "    <tr>\n",
       "      <th>1</th>\n",
       "      <td>1</td>\n",
       "      <td>0.9</td>\n",
       "      <td>0.296286</td>\n",
       "      <td>NaN</td>\n",
       "      <td>144.0</td>\n",
       "      <td>50</td>\n",
       "      <td>0.005418</td>\n",
       "      <td>NaN</td>\n",
       "      <td>366</td>\n",
       "      <td>534.047319</td>\n",
       "      <td>...</td>\n",
       "      <td>0</td>\n",
       "      <td>0</td>\n",
       "      <td>0</td>\n",
       "      <td>1</td>\n",
       "      <td>0</td>\n",
       "      <td>0</td>\n",
       "      <td>0</td>\n",
       "      <td>0</td>\n",
       "      <td>1</td>\n",
       "      <td>0</td>\n",
       "    </tr>\n",
       "    <tr>\n",
       "      <th>2</th>\n",
       "      <td>1</td>\n",
       "      <td>0.9</td>\n",
       "      <td>0.044985</td>\n",
       "      <td>NaN</td>\n",
       "      <td>132.0</td>\n",
       "      <td>40</td>\n",
       "      <td>3.108549</td>\n",
       "      <td>NaN</td>\n",
       "      <td>870</td>\n",
       "      <td>4048.534263</td>\n",
       "      <td>...</td>\n",
       "      <td>0</td>\n",
       "      <td>0</td>\n",
       "      <td>0</td>\n",
       "      <td>1</td>\n",
       "      <td>0</td>\n",
       "      <td>0</td>\n",
       "      <td>0</td>\n",
       "      <td>1</td>\n",
       "      <td>0</td>\n",
       "      <td>0</td>\n",
       "    </tr>\n",
       "    <tr>\n",
       "      <th>3</th>\n",
       "      <td>1</td>\n",
       "      <td>0.9</td>\n",
       "      <td>0.159511</td>\n",
       "      <td>NaN</td>\n",
       "      <td>22.0</td>\n",
       "      <td>50</td>\n",
       "      <td>0.019079</td>\n",
       "      <td>NaN</td>\n",
       "      <td>810</td>\n",
       "      <td>3457.064063</td>\n",
       "      <td>...</td>\n",
       "      <td>0</td>\n",
       "      <td>0</td>\n",
       "      <td>0</td>\n",
       "      <td>1</td>\n",
       "      <td>0</td>\n",
       "      <td>1</td>\n",
       "      <td>0</td>\n",
       "      <td>0</td>\n",
       "      <td>0</td>\n",
       "      <td>0</td>\n",
       "    </tr>\n",
       "    <tr>\n",
       "      <th>4</th>\n",
       "      <td>1</td>\n",
       "      <td>0.9</td>\n",
       "      <td>0.596414</td>\n",
       "      <td>NaN</td>\n",
       "      <td>218.0</td>\n",
       "      <td>50</td>\n",
       "      <td>0.004441</td>\n",
       "      <td>NaN</td>\n",
       "      <td>890</td>\n",
       "      <td>5020.341679</td>\n",
       "      <td>...</td>\n",
       "      <td>0</td>\n",
       "      <td>0</td>\n",
       "      <td>0</td>\n",
       "      <td>1</td>\n",
       "      <td>0</td>\n",
       "      <td>0</td>\n",
       "      <td>1</td>\n",
       "      <td>0</td>\n",
       "      <td>0</td>\n",
       "      <td>0</td>\n",
       "    </tr>\n",
       "  </tbody>\n",
       "</table>\n",
       "<p>5 rows × 53 columns</p>\n",
       "</div>"
      ],
      "text/plain": [
       "   fraud_bool  income  name_email_similarity  prev_address_months_count  \\\n",
       "0           1     0.9               0.166828                        NaN   \n",
       "1           1     0.9               0.296286                        NaN   \n",
       "2           1     0.9               0.044985                        NaN   \n",
       "3           1     0.9               0.159511                        NaN   \n",
       "4           1     0.9               0.596414                        NaN   \n",
       "\n",
       "   current_address_months_count  customer_age  days_since_request  \\\n",
       "0                          88.0            50            0.020925   \n",
       "1                         144.0            50            0.005418   \n",
       "2                         132.0            40            3.108549   \n",
       "3                          22.0            50            0.019079   \n",
       "4                         218.0            50            0.004441   \n",
       "\n",
       "   intended_balcon_amount  zip_count_4w   velocity_6h  ...  housing_status_BE  \\\n",
       "0                     NaN           769  10650.765523  ...                  0   \n",
       "1                     NaN           366    534.047319  ...                  0   \n",
       "2                     NaN           870   4048.534263  ...                  0   \n",
       "3                     NaN           810   3457.064063  ...                  0   \n",
       "4                     NaN           890   5020.341679  ...                  0   \n",
       "\n",
       "   housing_status_BF  housing_status_BG  source_INTERNET  source_TELEAPP  \\\n",
       "0                  0                  0                1               0   \n",
       "1                  0                  0                1               0   \n",
       "2                  0                  0                1               0   \n",
       "3                  0                  0                1               0   \n",
       "4                  0                  0                1               0   \n",
       "\n",
       "   device_os_linux  device_os_macintosh  device_os_other  device_os_windows  \\\n",
       "0                0                    0                0                  1   \n",
       "1                0                    0                0                  1   \n",
       "2                0                    0                1                  0   \n",
       "3                1                    0                0                  0   \n",
       "4                0                    1                0                  0   \n",
       "\n",
       "   device_os_x11  \n",
       "0              0  \n",
       "1              0  \n",
       "2              0  \n",
       "3              0  \n",
       "4              0  \n",
       "\n",
       "[5 rows x 53 columns]"
      ]
     },
     "execution_count": 3,
     "metadata": {},
     "output_type": "execute_result"
    }
   ],
   "source": [
    "new_df_base = pd.read_csv(\"../data/new_df_base.csv\")\n",
    "new_df_base.head()\n"
   ]
  },
  {
   "cell_type": "code",
   "execution_count": 4,
   "metadata": {},
   "outputs": [],
   "source": [
    "# Separate the feature matrix and target variable\n",
    "X = new_df_base.drop(['fraud_bool'], axis=1)\n",
    "y = new_df_base['fraud_bool']\n",
    "\n",
    "# Impute missing values with mean\n",
    "X = X.apply(lambda x: x.fillna(x.mean()))"
   ]
  },
  {
   "cell_type": "code",
   "execution_count": 5,
   "metadata": {},
   "outputs": [],
   "source": [
    "# Dropping constant features from Variance Threshold test\n",
    "X.drop(['device_fraud_count'], axis=1, inplace=True)\n",
    "\n",
    "# # Selecting features from ExtraTreesClassifier test\n",
    "# selected_features = [feature.replace('scaled__', '') for feature in best_extra_features]\n",
    "# X = X[selected_features]"
   ]
  },
  {
   "cell_type": "code",
   "execution_count": 6,
   "metadata": {},
   "outputs": [],
   "source": [
    "X_train_0, X_test, y_train_0, y_test = train_test_split(X, y, test_size=0.2, random_state=12)\n"
   ]
  },
  {
   "cell_type": "code",
   "execution_count": 7,
   "metadata": {},
   "outputs": [
    {
     "name": "stdout",
     "output_type": "stream",
     "text": [
      "Undersampled dataset shape Counter({0: 88940, 1: 8894})\n"
     ]
    }
   ],
   "source": [
    "# Crear el objeto RandomUnderSampler con la proporción deseada\n",
    "under_sampler = RandomUnderSampler(sampling_strategy=0.1, random_state=12)\n",
    "\n",
    "# Aplicar undersampling a tus datos\n",
    "X_train_2, y_train_2 = under_sampler.fit_resample(X_train_0, y_train_0)\n",
    "\n",
    "# Verificar la proporción después del undersampling\n",
    "print('Undersampled dataset shape %s' % Counter(y_train_2))\n"
   ]
  },
  {
   "cell_type": "markdown",
   "metadata": {},
   "source": [
    "### Entrenamiento del modelo con hiperparametros"
   ]
  },
  {
   "cell_type": "code",
   "execution_count": 8,
   "metadata": {},
   "outputs": [],
   "source": [
    "ada_model = Pipeline([\n",
    "    ('classifier', AdaBoostClassifier(random_state=12))\n",
    "])"
   ]
  },
  {
   "cell_type": "code",
   "execution_count": 9,
   "metadata": {},
   "outputs": [],
   "source": [
    "# Define a dictionary of hyperparameters for ADA Classifier\n",
    "ada_params = {\n",
    "    'classifier__n_estimators': [50, 100, 200],\n",
    "    'classifier__learning_rate': [0.01, 0.05, 0.1],\n",
    "    'classifier__base_estimator': [DecisionTreeClassifier(max_depth=1), DecisionTreeClassifier(max_depth=2)],\n",
    "    'classifier__algorithm': ['SAMME', 'SAMME.R']\n",
    "}\n",
    "\n",
    "CV= RandomizedSearchCV(estimator=ada_model, param_distributions=ada_params, cv=3, n_jobs=-1, verbose=2)\n",
    "\n",
    "                                      "
   ]
  },
  {
   "cell_type": "code",
   "execution_count": 10,
   "metadata": {},
   "outputs": [
    {
     "name": "stdout",
     "output_type": "stream",
     "text": [
      "Fitting 3 folds for each of 10 candidates, totalling 30 fits\n"
     ]
    }
   ],
   "source": [
    "ADA_models=CV.fit(X_train_2, y_train_2)"
   ]
  },
  {
   "cell_type": "code",
   "execution_count": 11,
   "metadata": {},
   "outputs": [],
   "source": [
    "# Lo guardamos en un archivo pickle\n",
    "\n",
    "#with open('../models/ADA_model_01.pkl', 'wb') as file:\n",
    "#    pickle.dump(ADA_models, file)"
   ]
  },
  {
   "cell_type": "code",
   "execution_count": 12,
   "metadata": {},
   "outputs": [],
   "source": [
    "# Cargamos el modelo ADA\n",
    "with open('../models/ADA_model_01.pkl', 'rb') as file:\n",
    "    ADA_model = pickle.load(file)\n",
    "\n",
    "# Prediccion con el modelo\n",
    "pred_ada = ADA_model.best_estimator_.predict(X_test)\n",
    "\n",
    "# Prediccion de probabilidades con el modelo\n",
    "pred_proba_ada = ADA_model.best_estimator_.predict_proba(X_test)"
   ]
  },
  {
   "cell_type": "code",
   "execution_count": 13,
   "metadata": {},
   "outputs": [
    {
     "name": "stdout",
     "output_type": "stream",
     "text": [
      "Accuracy of the model: 0.98037\n",
      "\n",
      "Classification report: \n",
      "              precision    recall  f1-score   support\n",
      "\n",
      "           0       0.99      0.99      0.99    197865\n",
      "           1       0.20      0.27      0.23      2135\n",
      "\n",
      "    accuracy                           0.98    200000\n",
      "   macro avg       0.59      0.63      0.61    200000\n",
      "weighted avg       0.98      0.98      0.98    200000\n",
      "\n",
      "\n"
     ]
    }
   ],
   "source": [
    "# Evaluación del modelo\n",
    "evaluate_model(y_test, pred_ada)"
   ]
  }
 ],
 "metadata": {
  "kernelspec": {
   "display_name": "ST",
   "language": "python",
   "name": "python3"
  },
  "language_info": {
   "codemirror_mode": {
    "name": "ipython",
    "version": 3
   },
   "file_extension": ".py",
   "mimetype": "text/x-python",
   "name": "python",
   "nbconvert_exporter": "python",
   "pygments_lexer": "ipython3",
   "version": "3.10.13"
  }
 },
 "nbformat": 4,
 "nbformat_minor": 2
}
