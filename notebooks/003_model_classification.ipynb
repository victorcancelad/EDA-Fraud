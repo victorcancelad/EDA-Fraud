{
 "cells": [
  {
   "cell_type": "markdown",
   "id": "51c5b139fe68cb6b",
   "metadata": {
    "collapsed": false
   },
   "source": [
    "### Codificación de las variables categoricas, escalado y modelo"
   ]
  },
  {
   "cell_type": "code",
   "execution_count": 1,
   "id": "69455645a5343b20",
   "metadata": {
    "ExecuteTime": {
     "end_time": "2023-11-13T14:03:07.754977700Z",
     "start_time": "2023-11-13T14:03:06.717189500Z"
    },
    "collapsed": false
   },
   "outputs": [],
   "source": [
    "import pandas as pd\n",
    "import numpy as np\n",
    "import sklearn\n",
    "from sklearn.pipeline import Pipeline\n",
    "from sklearn import metrics\n",
    "# !pip install category_encoders\n",
    "import category_encoders as ce\n",
    "from sklearn.preprocessing import OneHotEncoder\n",
    "from sklearn.ensemble import GradientBoostingClassifier\n",
    "import matplotlib.pyplot as plt\n",
    "import seaborn as sns\n",
    "from sklearn.ensemble import RandomForestClassifier, AdaBoostClassifier\n",
    "from sklearn.preprocessing import StandardScaler\n",
    "\n",
    "from sklearn.metrics import classification_report, confusion_matrix, roc_curve, auc, \\\n",
    "    silhouette_score, recall_score, precision_score, make_scorer, \\\n",
    "    roc_auc_score, f1_score, precision_recall_curve, accuracy_score, roc_auc_score, \\\n",
    "    classification_report, confusion_matrix\n",
    "\n",
    "from sklearn import metrics\n"
   ]
  },
  {
   "cell_type": "code",
   "execution_count": 2,
   "id": "242446d113ada3ef",
   "metadata": {
    "ExecuteTime": {
     "end_time": "2023-11-13T14:03:16.277725500Z",
     "start_time": "2023-11-13T14:03:11.546800800Z"
    },
    "collapsed": false
   },
   "outputs": [],
   "source": [
    "df_fraud_train = pd.read_csv(\"../data/train_pd_data_preprocessing_missing_outlier.csv\")\n",
    "df_fraud_test = pd.read_csv(\"../data/test_pd_data_preprocessing_missing_outlier.csv\") "
   ]
  },
  {
   "cell_type": "code",
   "execution_count": 3,
   "id": "965c266e7cfd58a6",
   "metadata": {
    "ExecuteTime": {
     "end_time": "2023-11-13T14:03:17.650626100Z",
     "start_time": "2023-11-13T14:03:17.602655800Z"
    },
    "collapsed": false
   },
   "outputs": [
    {
     "data": {
      "text/plain": [
       "Index(['Unnamed: 0', 'device_os', 'source', 'housing_status',\n",
       "       'employment_status', 'payment_type', 'fraud_bool', 'customer_age_input',\n",
       "       'name_email_similarity_input', 'velocity_24h_input',\n",
       "       'velocity_4w_input', 'current_address_months_count_input',\n",
       "       'date_of_birth_distinct_emails_4w_input',\n",
       "       'session_length_in_minutes_input', 'keep_alive_session_input',\n",
       "       'has_other_cards_input', 'prev_address_months_count_input',\n",
       "       'device_distinct_emails_8w_input', 'bank_months_count_input',\n",
       "       'zip_count_4w_input', 'credit_risk_score_input', 'income_input',\n",
       "       'email_is_free_input', 'phone_mobile_valid_input',\n",
       "       'bank_branch_count_8w_input', 'phone_home_valid_input',\n",
       "       'intended_balcon_amount_input', 'device_fraud_count_input',\n",
       "       'proposed_credit_limit_input', 'days_since_request_input',\n",
       "       'month_input', 'foreign_request_input', 'velocity_6h_input'],\n",
       "      dtype='object')"
      ]
     },
     "execution_count": 3,
     "metadata": {},
     "output_type": "execute_result"
    }
   ],
   "source": [
    "df_fraud_train.columns"
   ]
  },
  {
   "cell_type": "code",
   "execution_count": 4,
   "id": "bbd7ca085770c908",
   "metadata": {
    "ExecuteTime": {
     "end_time": "2023-11-13T14:03:20.872049100Z",
     "start_time": "2023-11-13T14:03:20.809312200Z"
    },
    "collapsed": false
   },
   "outputs": [
    {
     "data": {
      "text/plain": [
       "Unnamed: 0                                  int64\n",
       "device_os                                  object\n",
       "source                                     object\n",
       "housing_status                             object\n",
       "employment_status                          object\n",
       "payment_type                               object\n",
       "fraud_bool                                  int64\n",
       "customer_age_input                        float64\n",
       "name_email_similarity_input               float64\n",
       "velocity_24h_input                        float64\n",
       "velocity_4w_input                         float64\n",
       "current_address_months_count_input        float64\n",
       "date_of_birth_distinct_emails_4w_input    float64\n",
       "session_length_in_minutes_input           float64\n",
       "keep_alive_session_input                  float64\n",
       "has_other_cards_input                     float64\n",
       "prev_address_months_count_input           float64\n",
       "device_distinct_emails_8w_input           float64\n",
       "bank_months_count_input                   float64\n",
       "zip_count_4w_input                        float64\n",
       "credit_risk_score_input                   float64\n",
       "income_input                              float64\n",
       "email_is_free_input                       float64\n",
       "phone_mobile_valid_input                  float64\n",
       "bank_branch_count_8w_input                float64\n",
       "phone_home_valid_input                    float64\n",
       "intended_balcon_amount_input              float64\n",
       "device_fraud_count_input                  float64\n",
       "proposed_credit_limit_input               float64\n",
       "days_since_request_input                  float64\n",
       "month_input                               float64\n",
       "foreign_request_input                     float64\n",
       "velocity_6h_input                         float64\n",
       "dtype: object"
      ]
     },
     "execution_count": 4,
     "metadata": {},
     "output_type": "execute_result"
    }
   ],
   "source": [
    "df_fraud_train.dtypes"
   ]
  },
  {
   "cell_type": "markdown",
   "id": "a4e112d027f0b640",
   "metadata": {
    "collapsed": false
   },
   "source": [
    "## Codificación de la variable objetivo\n",
    "1-- Verdadero y 0-- Falso"
   ]
  },
  {
   "cell_type": "code",
   "execution_count": 5,
   "id": "893fa7389f3b2582",
   "metadata": {
    "ExecuteTime": {
     "end_time": "2023-11-13T14:03:25.611905500Z",
     "start_time": "2023-11-13T14:03:25.554459900Z"
    },
    "collapsed": false
   },
   "outputs": [
    {
     "data": {
      "text/plain": [
       "0    791177\n",
       "1      8823\n",
       "Name: fraud_bool, dtype: int64"
      ]
     },
     "execution_count": 5,
     "metadata": {},
     "output_type": "execute_result"
    }
   ],
   "source": [
    "df_fraud_train['fraud_bool'].value_counts()"
   ]
  },
  {
   "cell_type": "markdown",
   "metadata": {},
   "source": [
    "Se cuenta la frequencia con la obtenemos los valores unicos de 0 y 1 en fraud_bool."
   ]
  },
  {
   "cell_type": "code",
   "execution_count": 6,
   "id": "c9ffe165a78e657b",
   "metadata": {
    "ExecuteTime": {
     "end_time": "2023-11-13T14:03:27.711205700Z",
     "start_time": "2023-11-13T14:03:27.660016500Z"
    },
    "collapsed": false
   },
   "outputs": [
    {
     "name": "stdout",
     "output_type": "stream",
     "text": [
      "[0 1]\n"
     ]
    }
   ],
   "source": [
    "print(df_fraud_train['fraud_bool'].unique())"
   ]
  },
  {
   "cell_type": "code",
   "execution_count": 7,
   "id": "313e3fd1aecbc439",
   "metadata": {
    "ExecuteTime": {
     "end_time": "2023-11-13T14:03:30.857646400Z",
     "start_time": "2023-11-13T14:03:30.797969900Z"
    },
    "collapsed": false
   },
   "outputs": [
    {
     "data": {
      "text/plain": [
       "0    791177\n",
       "1      8823\n",
       "Name: fraud_bool, dtype: int64"
      ]
     },
     "execution_count": 7,
     "metadata": {},
     "output_type": "execute_result"
    }
   ],
   "source": [
    "df_fraud_train['fraud_bool'].value_counts()"
   ]
  },
  {
   "cell_type": "code",
   "execution_count": 8,
   "id": "115aa22f6172b869",
   "metadata": {
    "ExecuteTime": {
     "end_time": "2023-11-13T14:03:34.444280200Z",
     "start_time": "2023-11-13T14:03:34.290673700Z"
    },
    "collapsed": false
   },
   "outputs": [],
   "source": [
    "X_train = df_fraud_train.drop('fraud_bool',axis=1)\n",
    "X_test = df_fraud_test.drop('fraud_bool',axis=1)\n",
    "y_train = df_fraud_train['fraud_bool']\n",
    "y_test = df_fraud_test['fraud_bool']"
   ]
  },
  {
   "cell_type": "markdown",
   "metadata": {},
   "source": [
    "Dividimos el conjunto de datos para posteriormente entrenarlo."
   ]
  },
  {
   "cell_type": "markdown",
   "id": "a68e00b97a21f43e",
   "metadata": {
    "collapsed": false
   },
   "source": [
    "## Codificación del resto de variables categoricas\n",
    "Por ejemplo, elijo codificarlas con one-hot-encoding todas. Se podría elegir codificar algunas de una forma y otras de otra. Por ejemplo, variables con pocas categorías con one hot encoding y variables con más categorias con TargetEncoding"
   ]
  },
  {
   "cell_type": "code",
   "execution_count": 9,
   "id": "c711c9d68265af82",
   "metadata": {
    "ExecuteTime": {
     "end_time": "2023-11-13T13:54:49.604567800Z",
     "start_time": "2023-11-13T13:54:49.532764600Z"
    },
    "collapsed": false
   },
   "outputs": [],
   "source": [
    "list_columns_cat = list(X_train.select_dtypes(\"object\", \"category\").columns)\n",
    "list_other = list(set(X_train.columns)-set(list_columns_cat))"
   ]
  },
  {
   "cell_type": "markdown",
   "metadata": {},
   "source": [
    "Generamos dos listas, una con variables categoricas y otra  con el resto."
   ]
  },
  {
   "cell_type": "code",
   "execution_count": 10,
   "id": "44b273dc4c407ff1",
   "metadata": {
    "ExecuteTime": {
     "end_time": "2023-11-13T13:54:55.823547200Z",
     "start_time": "2023-11-13T13:54:50.854543500Z"
    },
    "collapsed": false
   },
   "outputs": [],
   "source": [
    "ohe = ce.OneHotEncoder(cols=list_columns_cat)\n",
    "model = ohe.fit(X_train, y_train)"
   ]
  },
  {
   "cell_type": "markdown",
   "metadata": {},
   "source": [
    "Utiliza la biblioteca category_encoders para realizar la codificación one-hot de las variables categóricas en el conjunto de entrenamiento X_train."
   ]
  },
  {
   "cell_type": "code",
   "execution_count": 11,
   "id": "a3c5fd75a2fec2b5",
   "metadata": {
    "ExecuteTime": {
     "end_time": "2023-11-13T13:54:56.689112Z",
     "start_time": "2023-11-13T13:54:56.659854Z"
    },
    "collapsed": false
   },
   "outputs": [
    {
     "data": {
      "text/html": [
       "<style>#sk-container-id-1 {color: black;}#sk-container-id-1 pre{padding: 0;}#sk-container-id-1 div.sk-toggleable {background-color: white;}#sk-container-id-1 label.sk-toggleable__label {cursor: pointer;display: block;width: 100%;margin-bottom: 0;padding: 0.3em;box-sizing: border-box;text-align: center;}#sk-container-id-1 label.sk-toggleable__label-arrow:before {content: \"▸\";float: left;margin-right: 0.25em;color: #696969;}#sk-container-id-1 label.sk-toggleable__label-arrow:hover:before {color: black;}#sk-container-id-1 div.sk-estimator:hover label.sk-toggleable__label-arrow:before {color: black;}#sk-container-id-1 div.sk-toggleable__content {max-height: 0;max-width: 0;overflow: hidden;text-align: left;background-color: #f0f8ff;}#sk-container-id-1 div.sk-toggleable__content pre {margin: 0.2em;color: black;border-radius: 0.25em;background-color: #f0f8ff;}#sk-container-id-1 input.sk-toggleable__control:checked~div.sk-toggleable__content {max-height: 200px;max-width: 100%;overflow: auto;}#sk-container-id-1 input.sk-toggleable__control:checked~label.sk-toggleable__label-arrow:before {content: \"▾\";}#sk-container-id-1 div.sk-estimator input.sk-toggleable__control:checked~label.sk-toggleable__label {background-color: #d4ebff;}#sk-container-id-1 div.sk-label input.sk-toggleable__control:checked~label.sk-toggleable__label {background-color: #d4ebff;}#sk-container-id-1 input.sk-hidden--visually {border: 0;clip: rect(1px 1px 1px 1px);clip: rect(1px, 1px, 1px, 1px);height: 1px;margin: -1px;overflow: hidden;padding: 0;position: absolute;width: 1px;}#sk-container-id-1 div.sk-estimator {font-family: monospace;background-color: #f0f8ff;border: 1px dotted black;border-radius: 0.25em;box-sizing: border-box;margin-bottom: 0.5em;}#sk-container-id-1 div.sk-estimator:hover {background-color: #d4ebff;}#sk-container-id-1 div.sk-parallel-item::after {content: \"\";width: 100%;border-bottom: 1px solid gray;flex-grow: 1;}#sk-container-id-1 div.sk-label:hover label.sk-toggleable__label {background-color: #d4ebff;}#sk-container-id-1 div.sk-serial::before {content: \"\";position: absolute;border-left: 1px solid gray;box-sizing: border-box;top: 0;bottom: 0;left: 50%;z-index: 0;}#sk-container-id-1 div.sk-serial {display: flex;flex-direction: column;align-items: center;background-color: white;padding-right: 0.2em;padding-left: 0.2em;position: relative;}#sk-container-id-1 div.sk-item {position: relative;z-index: 1;}#sk-container-id-1 div.sk-parallel {display: flex;align-items: stretch;justify-content: center;background-color: white;position: relative;}#sk-container-id-1 div.sk-item::before, #sk-container-id-1 div.sk-parallel-item::before {content: \"\";position: absolute;border-left: 1px solid gray;box-sizing: border-box;top: 0;bottom: 0;left: 50%;z-index: -1;}#sk-container-id-1 div.sk-parallel-item {display: flex;flex-direction: column;z-index: 1;position: relative;background-color: white;}#sk-container-id-1 div.sk-parallel-item:first-child::after {align-self: flex-end;width: 50%;}#sk-container-id-1 div.sk-parallel-item:last-child::after {align-self: flex-start;width: 50%;}#sk-container-id-1 div.sk-parallel-item:only-child::after {width: 0;}#sk-container-id-1 div.sk-dashed-wrapped {border: 1px dashed gray;margin: 0 0.4em 0.5em 0.4em;box-sizing: border-box;padding-bottom: 0.4em;background-color: white;}#sk-container-id-1 div.sk-label label {font-family: monospace;font-weight: bold;display: inline-block;line-height: 1.2em;}#sk-container-id-1 div.sk-label-container {text-align: center;}#sk-container-id-1 div.sk-container {/* jupyter's `normalize.less` sets `[hidden] { display: none; }` but bootstrap.min.css set `[hidden] { display: none !important; }` so we also need the `!important` here to be able to override the default hidden behavior on the sphinx rendered scikit-learn.org. See: https://github.com/scikit-learn/scikit-learn/issues/21755 */display: inline-block !important;position: relative;}#sk-container-id-1 div.sk-text-repr-fallback {display: none;}</style><div id=\"sk-container-id-1\" class=\"sk-top-container\"><div class=\"sk-text-repr-fallback\"><pre>OneHotEncoder(cols=[&#x27;device_os&#x27;, &#x27;source&#x27;, &#x27;housing_status&#x27;,\n",
       "                    &#x27;employment_status&#x27;, &#x27;payment_type&#x27;])</pre><b>In a Jupyter environment, please rerun this cell to show the HTML representation or trust the notebook. <br />On GitHub, the HTML representation is unable to render, please try loading this page with nbviewer.org.</b></div><div class=\"sk-container\" hidden><div class=\"sk-item\"><div class=\"sk-estimator sk-toggleable\"><input class=\"sk-toggleable__control sk-hidden--visually\" id=\"sk-estimator-id-1\" type=\"checkbox\" checked><label for=\"sk-estimator-id-1\" class=\"sk-toggleable__label sk-toggleable__label-arrow\">OneHotEncoder</label><div class=\"sk-toggleable__content\"><pre>OneHotEncoder(cols=[&#x27;device_os&#x27;, &#x27;source&#x27;, &#x27;housing_status&#x27;,\n",
       "                    &#x27;employment_status&#x27;, &#x27;payment_type&#x27;])</pre></div></div></div></div></div>"
      ],
      "text/plain": [
       "OneHotEncoder(cols=['device_os', 'source', 'housing_status',\n",
       "                    'employment_status', 'payment_type'])"
      ]
     },
     "execution_count": 11,
     "metadata": {},
     "output_type": "execute_result"
    }
   ],
   "source": [
    "model"
   ]
  },
  {
   "cell_type": "code",
   "execution_count": 12,
   "id": "3025bf424906fde9",
   "metadata": {
    "ExecuteTime": {
     "end_time": "2023-11-13T13:55:05.336943800Z",
     "start_time": "2023-11-13T13:55:00.933704100Z"
    },
    "collapsed": false
   },
   "outputs": [],
   "source": [
    "X_train_t = model.transform(X_train, y_train)\n",
    "X_test_t = model.transform(X_test, y_test)"
   ]
  },
  {
   "cell_type": "markdown",
   "metadata": {},
   "source": [
    "Se aplica la transformación a los conjuntos de entrenamiento y prueba. "
   ]
  },
  {
   "cell_type": "code",
   "execution_count": 13,
   "id": "2208311e6bff3480",
   "metadata": {
    "ExecuteTime": {
     "end_time": "2023-11-13T13:55:09.622936700Z",
     "start_time": "2023-11-13T13:55:09.547900900Z"
    },
    "collapsed": false
   },
   "outputs": [
    {
     "data": {
      "text/plain": [
       "53"
      ]
     },
     "execution_count": 13,
     "metadata": {},
     "output_type": "execute_result"
    }
   ],
   "source": [
    "len(list(X_train_t.columns))"
   ]
  },
  {
   "cell_type": "code",
   "execution_count": 14,
   "id": "ed1fc900f7e65822",
   "metadata": {
    "ExecuteTime": {
     "end_time": "2023-11-13T13:55:10.933176600Z",
     "start_time": "2023-11-13T13:55:10.844406100Z"
    },
    "collapsed": false
   },
   "outputs": [
    {
     "data": {
      "text/plain": [
       "{'Unnamed: 0': dtype('int64'),\n",
       " 'device_os_1': dtype('int64'),\n",
       " 'device_os_2': dtype('int64'),\n",
       " 'device_os_3': dtype('int64'),\n",
       " 'device_os_4': dtype('int64'),\n",
       " 'device_os_5': dtype('int64'),\n",
       " 'source_1': dtype('int64'),\n",
       " 'source_2': dtype('int64'),\n",
       " 'housing_status_1': dtype('int64'),\n",
       " 'housing_status_2': dtype('int64'),\n",
       " 'housing_status_3': dtype('int64'),\n",
       " 'housing_status_4': dtype('int64'),\n",
       " 'housing_status_5': dtype('int64'),\n",
       " 'housing_status_6': dtype('int64'),\n",
       " 'housing_status_7': dtype('int64'),\n",
       " 'employment_status_1': dtype('int64'),\n",
       " 'employment_status_2': dtype('int64'),\n",
       " 'employment_status_3': dtype('int64'),\n",
       " 'employment_status_4': dtype('int64'),\n",
       " 'employment_status_5': dtype('int64'),\n",
       " 'employment_status_6': dtype('int64'),\n",
       " 'employment_status_7': dtype('int64'),\n",
       " 'payment_type_1': dtype('int64'),\n",
       " 'payment_type_2': dtype('int64'),\n",
       " 'payment_type_3': dtype('int64'),\n",
       " 'payment_type_4': dtype('int64'),\n",
       " 'payment_type_5': dtype('int64'),\n",
       " 'customer_age_input': dtype('float64'),\n",
       " 'name_email_similarity_input': dtype('float64'),\n",
       " 'velocity_24h_input': dtype('float64'),\n",
       " 'velocity_4w_input': dtype('float64'),\n",
       " 'current_address_months_count_input': dtype('float64'),\n",
       " 'date_of_birth_distinct_emails_4w_input': dtype('float64'),\n",
       " 'session_length_in_minutes_input': dtype('float64'),\n",
       " 'keep_alive_session_input': dtype('float64'),\n",
       " 'has_other_cards_input': dtype('float64'),\n",
       " 'prev_address_months_count_input': dtype('float64'),\n",
       " 'device_distinct_emails_8w_input': dtype('float64'),\n",
       " 'bank_months_count_input': dtype('float64'),\n",
       " 'zip_count_4w_input': dtype('float64'),\n",
       " 'credit_risk_score_input': dtype('float64'),\n",
       " 'income_input': dtype('float64'),\n",
       " 'email_is_free_input': dtype('float64'),\n",
       " 'phone_mobile_valid_input': dtype('float64'),\n",
       " 'bank_branch_count_8w_input': dtype('float64'),\n",
       " 'phone_home_valid_input': dtype('float64'),\n",
       " 'intended_balcon_amount_input': dtype('float64'),\n",
       " 'device_fraud_count_input': dtype('float64'),\n",
       " 'proposed_credit_limit_input': dtype('float64'),\n",
       " 'days_since_request_input': dtype('float64'),\n",
       " 'month_input': dtype('float64'),\n",
       " 'foreign_request_input': dtype('float64'),\n",
       " 'velocity_6h_input': dtype('float64')}"
      ]
     },
     "execution_count": 14,
     "metadata": {},
     "output_type": "execute_result"
    }
   ],
   "source": [
    "X_train_t.dtypes.to_dict()"
   ]
  },
  {
   "cell_type": "markdown",
   "metadata": {},
   "source": [
    "Genera un diccionario que muestra los tipos de datos de cada columna en el DataFrame X_train_t después de aplicar la transformación one-hot. "
   ]
  }
 ],
 "metadata": {
  "kernelspec": {
   "display_name": "Python 3 (ipykernel)",
   "language": "python",
   "name": "python3"
  },
  "language_info": {
   "codemirror_mode": {
    "name": "ipython",
    "version": 3
   },
   "file_extension": ".py",
   "mimetype": "text/x-python",
   "name": "python",
   "nbconvert_exporter": "python",
   "pygments_lexer": "ipython3",
   "version": "3.9.18"
  }
 },
 "nbformat": 4,
 "nbformat_minor": 5
}
